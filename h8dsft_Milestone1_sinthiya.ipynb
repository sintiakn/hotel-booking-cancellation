{
 "cells": [
  {
   "cell_type": "markdown",
   "metadata": {},
   "source": [
    "**Nama: Sinthiya Kusuma Nagari**\n",
    "\n",
    "**Batch: HCK 010**\n",
    "\n",
    "**Program ini dibuat untuk menganalisis hal-hal yang menyebabkan customer melakukan pembatalan pada pesanan**\n",
    "\n",
    "Link Dashboard Tableau: https://public.tableau.com/views/HotelBookingCancellation_16995301562240/Dashboard1?:language=en-US&publish=yes&:display_count=n&:origin=viz_share_link"
   ]
  },
  {
   "cell_type": "markdown",
   "metadata": {},
   "source": [
    "# Case\n",
    "Saya kerja di salah satu perusahaan perhotelan di portugal. Belakangan ini, banyak tamu yang datang ke hotel dan harus ditolak karena kamar-kamar sudah penuh. Namun, ternyata bukannya terjadi peningkatan revenue melainkan mengalami penurunan. Hal ini mungkin disebabkan oleh meningkatknya pembatalan pada pemesanan. Sebagai seorang data analis, saya diberi tugas untuk mengidentifikasi hal-hal yang dapat menyebabkan customer melakukan pembatalan. Dengan harapan bahwa informasi ini akan membantu kami meningkatkan strategi pendapatan untuk Hotel."
   ]
  },
  {
   "cell_type": "markdown",
   "metadata": {},
   "source": [
    "# Business Understanding\n",
    "\n",
    "1. Spesific: Mengidentifikasi hal hal yang menyebabkan customer melakukan pembatalan, sehingga perusahaan dapat mengambil langkah-langkah yang lebih tepat untuk mengurangi pembatalan.\n",
    "\n",
    "2. Measurable: Mengidentifikasi hal hal yang menyebabkan customer melakukan pembatalan, seperti lead time,  jumlah request,  jumlah kunjungan sebelumnya, dll dengan mengukur tingkat korelasi antara setiap karakteristik dengan pembatalan pemesanan.\n",
    "\n",
    "3. Achievable: Data pemesanan dan pembatalan telah tersedia dan dapat diakses, sehingga tujuan dapat dicapai dengan mencari korelasi setiap variabel terhadap pembatalan pesanan.\n",
    "\n",
    "4. Relevant: Tujuan ini akan membantu perusahaan untuk memahami siapa yang cenderung membatalkan pemesanan dan mengembangkan strategi yang lebih efektif untuk mengurangi pembatalan. Mengurangi pembatalan akan berdampak positif pada revenue dan reputasi perusahaan.\n",
    "\n",
    "5. Time Bond: Analisis hal hal yang menyebabkan customer melakukan pembatalan akan diselesaikan dalam tiga bulan. Hasil analisi dapat digunakan untuk merancang strategi perbaikan dan langkah-langkah pemasaran yang lebih tepat selama enam bulan kedepan. \n",
    "\n",
    "Problem Statement: Mengidentifikasi hal hal yang menyebabkan customer melakukan pembatalan, dengan mengukur tingkat korelasi antara berbagai faktor dalam upaya untuk mengembangkan strategi yang lebih efektif dalam mengurangi pembatalan pemesanan selama enam bulan ke depan."
   ]
  },
  {
   "cell_type": "markdown",
   "metadata": {},
   "source": [
    "Main problem: Mengidentifikasi hal hal yang menyebabkan customer melakukan pembatalan\n",
    "1. Berapa banyak booking yang dicancel? \n",
    "2. Berapa jumlah pesanan yang dibatalkan dari tipe hotel?\n",
    "3. Apakah lead time berpengaruh terhadap pembatalan booking?\n",
    "4. Berapa rata-rata adr tiap bulan pada masing-masing tipe hotel?\n",
    "5. Dari mana asal pengunjung terbanyak yang melakukan pembatalan pesanan?\n",
    "6. Apakah mayoritas pengunjung datang dari offline travel agent untuk membuat pesanan?\n",
    "7. Apakah rata-rata adr pesanan yang dibatalkan, berdasarkan bulan pada city hotel dan resort hotel berbeda?\n",
    "8. Berapa median, modus, mean lead time pada pesanan yang di cancel?"
   ]
  },
  {
   "cell_type": "markdown",
   "metadata": {},
   "source": [
    "# Data Understanding\n",
    "\n",
    "- hotel: Jenis hotel tempat reservasi dibuat. Ada beberapa nilai seperti \"Resort Hotel\" atau \"City Hotel\".\n",
    "- is_canceled: Menunjukkan apakah reservasi dibatalkan (1) atau tidak (0).\n",
    "- lead_time: Jumlah hari antara tanggal reservasi dan tanggal kedatangan tamu.\n",
    "- arrival_date_year: Tahun dari tanggal kedatangan tamu.\n",
    "- arrival_date_month: Bulan dari tanggal kedatangan tamu.\n",
    "- arrival_date_week_number: Nomor minggu dalam tahun ketika tamu datang.\n",
    "- arrival_date_day_of_month: Hari dalam bulan ketika tamu datang.\n",
    "- stays_in_weekend_nights: Jumlah malam yang tamu menginap di akhir pekan.\n",
    "- stays_in_week_nights: Jumlah malam yang tamu menginap selama hari kerja.\n",
    "- adults: Jumlah orang dewasa dalam kelompok yang memesan kamar.\n",
    "- children: Jumlah anak dalam kelompok yang memesan kamar.\n",
    "- babies: Jumlah bayi dalam kelompok yang memesan kamar.\n",
    "- meal: Jenis makanan yang disediakan dalam rencana makan (misalnya, 'BB' untuk Bed & Breakfast).\n",
    "- country: Negara asal tamu.\n",
    "- market_segment: Segmen pasar yang digunakan untuk reservasi (misalnya, 'Online TA' untuk agen perjalanan online).\n",
    "- distribution_channel: Saluran distribusi yang digunakan untuk membuat reservasi (misalnya, 'TA/TO' untuk Agen Perjalanan dan Operator Tur).\n",
    "- is_repeated_guest: Menunjukkan apakah tamu adalah tamu yang kembali (1) atau tidak (0).\n",
    "- previous_cancellations: Jumlah reservasi sebelumnya yang dibatalkan oleh tamu.\n",
    "- previous_bookings_not_canceled: Jumlah reservasi sebelumnya yang tidak dibatalkan oleh tamu.\n",
    "- reserved_room_type: Jenis kamar yang telah dipesan oleh tamu.\n",
    "- assigned_room_type: Jenis kamar aktual yang diberikan kepada tamu saat check-in.\n",
    "- booking_changes: Jumlah perubahan yang dilakukan pada reservasi sebelum tamu check-in.\n",
    "- deposit_type: Jenis deposit yang harus dibayar oleh tamu (misalnya, 'No Deposit' atau 'Non-Refund').\n",
    "- agent: ID agen perantara yang bertanggung jawab atas reservasi.\n",
    "- company: ID perusahaan yang bertanggung jawab atas reservasi jika berlaku.\n",
    "- days_in_waiting_list: Jumlah hari reservasi berada dalam daftar tunggu sebelum dikonfirmasi.\n",
    "- customer_type: Jenis tamu (misalnya, 'Transient' untuk tamu sementara atau 'Contract' untuk tamu dengan kontrak jangka panjang).\n",
    "- adr: Tarif Harian Rata-rata, yaitu tarif rata-rata per malam yang dibayar oleh tamu.\n",
    "- required_car_parking_spaces: Jumlah tempat parkir yang diperlukan oleh tamu.\n",
    "- total_of_special_requests: Jumlah permintaan khusus yang dibuat oleh tamu (misalnya, permintaan tempat tidur tambahan atau makanan khusus).\n",
    "- reservation_status: Status terbaru dari reservasi (misalnya, 'Check-Out' jika tamu sudah check-out).\n",
    "- reservation_status_date: Tanggal terakhir di mana status reservasi diperbarui."
   ]
  },
  {
   "cell_type": "markdown",
   "metadata": {},
   "source": [
    "# Import Library"
   ]
  },
  {
   "cell_type": "code",
   "execution_count": 1,
   "metadata": {},
   "outputs": [],
   "source": [
    "# melakukan import library\n",
    "import pandas as pd\n",
    "import matplotlib.pyplot as plt\n",
    "import seaborn as sns\n",
    "from scipy import stats"
   ]
  },
  {
   "cell_type": "markdown",
   "metadata": {},
   "source": [
    "# Data Loading\n",
    "sumber data (Kaggle) : https://www.kaggle.com/datasets/jessemostipak/hotel-booking-demand/data"
   ]
  },
  {
   "cell_type": "code",
   "execution_count": 2,
   "metadata": {},
   "outputs": [
    {
     "data": {
      "text/html": [
       "<div>\n",
       "<style scoped>\n",
       "    .dataframe tbody tr th:only-of-type {\n",
       "        vertical-align: middle;\n",
       "    }\n",
       "\n",
       "    .dataframe tbody tr th {\n",
       "        vertical-align: top;\n",
       "    }\n",
       "\n",
       "    .dataframe thead th {\n",
       "        text-align: right;\n",
       "    }\n",
       "</style>\n",
       "<table border=\"1\" class=\"dataframe\">\n",
       "  <thead>\n",
       "    <tr style=\"text-align: right;\">\n",
       "      <th></th>\n",
       "      <th>hotel</th>\n",
       "      <th>is_canceled</th>\n",
       "      <th>lead_time</th>\n",
       "      <th>arrival_date_year</th>\n",
       "      <th>arrival_date_month</th>\n",
       "      <th>arrival_date_week_number</th>\n",
       "      <th>arrival_date_day_of_month</th>\n",
       "      <th>stays_in_weekend_nights</th>\n",
       "      <th>stays_in_week_nights</th>\n",
       "      <th>adults</th>\n",
       "      <th>...</th>\n",
       "      <th>deposit_type</th>\n",
       "      <th>agent</th>\n",
       "      <th>company</th>\n",
       "      <th>days_in_waiting_list</th>\n",
       "      <th>customer_type</th>\n",
       "      <th>adr</th>\n",
       "      <th>required_car_parking_spaces</th>\n",
       "      <th>total_of_special_requests</th>\n",
       "      <th>reservation_status</th>\n",
       "      <th>reservation_status_date</th>\n",
       "    </tr>\n",
       "  </thead>\n",
       "  <tbody>\n",
       "    <tr>\n",
       "      <th>0</th>\n",
       "      <td>Resort Hotel</td>\n",
       "      <td>0</td>\n",
       "      <td>342</td>\n",
       "      <td>2015</td>\n",
       "      <td>July</td>\n",
       "      <td>27</td>\n",
       "      <td>1</td>\n",
       "      <td>0</td>\n",
       "      <td>0</td>\n",
       "      <td>2</td>\n",
       "      <td>...</td>\n",
       "      <td>No Deposit</td>\n",
       "      <td>NaN</td>\n",
       "      <td>NaN</td>\n",
       "      <td>0</td>\n",
       "      <td>Transient</td>\n",
       "      <td>0.0</td>\n",
       "      <td>0</td>\n",
       "      <td>0</td>\n",
       "      <td>Check-Out</td>\n",
       "      <td>2015-07-01</td>\n",
       "    </tr>\n",
       "    <tr>\n",
       "      <th>1</th>\n",
       "      <td>Resort Hotel</td>\n",
       "      <td>0</td>\n",
       "      <td>737</td>\n",
       "      <td>2015</td>\n",
       "      <td>July</td>\n",
       "      <td>27</td>\n",
       "      <td>1</td>\n",
       "      <td>0</td>\n",
       "      <td>0</td>\n",
       "      <td>2</td>\n",
       "      <td>...</td>\n",
       "      <td>No Deposit</td>\n",
       "      <td>NaN</td>\n",
       "      <td>NaN</td>\n",
       "      <td>0</td>\n",
       "      <td>Transient</td>\n",
       "      <td>0.0</td>\n",
       "      <td>0</td>\n",
       "      <td>0</td>\n",
       "      <td>Check-Out</td>\n",
       "      <td>2015-07-01</td>\n",
       "    </tr>\n",
       "    <tr>\n",
       "      <th>2</th>\n",
       "      <td>Resort Hotel</td>\n",
       "      <td>0</td>\n",
       "      <td>7</td>\n",
       "      <td>2015</td>\n",
       "      <td>July</td>\n",
       "      <td>27</td>\n",
       "      <td>1</td>\n",
       "      <td>0</td>\n",
       "      <td>1</td>\n",
       "      <td>1</td>\n",
       "      <td>...</td>\n",
       "      <td>No Deposit</td>\n",
       "      <td>NaN</td>\n",
       "      <td>NaN</td>\n",
       "      <td>0</td>\n",
       "      <td>Transient</td>\n",
       "      <td>75.0</td>\n",
       "      <td>0</td>\n",
       "      <td>0</td>\n",
       "      <td>Check-Out</td>\n",
       "      <td>2015-07-02</td>\n",
       "    </tr>\n",
       "    <tr>\n",
       "      <th>3</th>\n",
       "      <td>Resort Hotel</td>\n",
       "      <td>0</td>\n",
       "      <td>13</td>\n",
       "      <td>2015</td>\n",
       "      <td>July</td>\n",
       "      <td>27</td>\n",
       "      <td>1</td>\n",
       "      <td>0</td>\n",
       "      <td>1</td>\n",
       "      <td>1</td>\n",
       "      <td>...</td>\n",
       "      <td>No Deposit</td>\n",
       "      <td>304.0</td>\n",
       "      <td>NaN</td>\n",
       "      <td>0</td>\n",
       "      <td>Transient</td>\n",
       "      <td>75.0</td>\n",
       "      <td>0</td>\n",
       "      <td>0</td>\n",
       "      <td>Check-Out</td>\n",
       "      <td>2015-07-02</td>\n",
       "    </tr>\n",
       "    <tr>\n",
       "      <th>4</th>\n",
       "      <td>Resort Hotel</td>\n",
       "      <td>0</td>\n",
       "      <td>14</td>\n",
       "      <td>2015</td>\n",
       "      <td>July</td>\n",
       "      <td>27</td>\n",
       "      <td>1</td>\n",
       "      <td>0</td>\n",
       "      <td>2</td>\n",
       "      <td>2</td>\n",
       "      <td>...</td>\n",
       "      <td>No Deposit</td>\n",
       "      <td>240.0</td>\n",
       "      <td>NaN</td>\n",
       "      <td>0</td>\n",
       "      <td>Transient</td>\n",
       "      <td>98.0</td>\n",
       "      <td>0</td>\n",
       "      <td>1</td>\n",
       "      <td>Check-Out</td>\n",
       "      <td>2015-07-03</td>\n",
       "    </tr>\n",
       "  </tbody>\n",
       "</table>\n",
       "<p>5 rows × 32 columns</p>\n",
       "</div>"
      ],
      "text/plain": [
       "          hotel  is_canceled  lead_time  arrival_date_year arrival_date_month  \\\n",
       "0  Resort Hotel            0        342               2015               July   \n",
       "1  Resort Hotel            0        737               2015               July   \n",
       "2  Resort Hotel            0          7               2015               July   \n",
       "3  Resort Hotel            0         13               2015               July   \n",
       "4  Resort Hotel            0         14               2015               July   \n",
       "\n",
       "   arrival_date_week_number  arrival_date_day_of_month  \\\n",
       "0                        27                          1   \n",
       "1                        27                          1   \n",
       "2                        27                          1   \n",
       "3                        27                          1   \n",
       "4                        27                          1   \n",
       "\n",
       "   stays_in_weekend_nights  stays_in_week_nights  adults  ...  deposit_type  \\\n",
       "0                        0                     0       2  ...    No Deposit   \n",
       "1                        0                     0       2  ...    No Deposit   \n",
       "2                        0                     1       1  ...    No Deposit   \n",
       "3                        0                     1       1  ...    No Deposit   \n",
       "4                        0                     2       2  ...    No Deposit   \n",
       "\n",
       "   agent company days_in_waiting_list customer_type   adr  \\\n",
       "0    NaN     NaN                    0     Transient   0.0   \n",
       "1    NaN     NaN                    0     Transient   0.0   \n",
       "2    NaN     NaN                    0     Transient  75.0   \n",
       "3  304.0     NaN                    0     Transient  75.0   \n",
       "4  240.0     NaN                    0     Transient  98.0   \n",
       "\n",
       "   required_car_parking_spaces  total_of_special_requests  reservation_status  \\\n",
       "0                            0                          0           Check-Out   \n",
       "1                            0                          0           Check-Out   \n",
       "2                            0                          0           Check-Out   \n",
       "3                            0                          0           Check-Out   \n",
       "4                            0                          1           Check-Out   \n",
       "\n",
       "  reservation_status_date  \n",
       "0              2015-07-01  \n",
       "1              2015-07-01  \n",
       "2              2015-07-02  \n",
       "3              2015-07-02  \n",
       "4              2015-07-03  \n",
       "\n",
       "[5 rows x 32 columns]"
      ]
     },
     "execution_count": 2,
     "metadata": {},
     "output_type": "execute_result"
    }
   ],
   "source": [
    "# membaca data dari csv\n",
    "df=pd.read_csv('hotel_bookings.csv')\n",
    "\n",
    "# menampilkan 5 baris teratas\n",
    "df.head()"
   ]
  },
  {
   "cell_type": "markdown",
   "metadata": {},
   "source": [
    "# Data Preparation"
   ]
  },
  {
   "cell_type": "code",
   "execution_count": 3,
   "metadata": {},
   "outputs": [
    {
     "name": "stdout",
     "output_type": "stream",
     "text": [
      "<class 'pandas.core.frame.DataFrame'>\n",
      "RangeIndex: 119390 entries, 0 to 119389\n",
      "Data columns (total 32 columns):\n",
      " #   Column                          Non-Null Count   Dtype  \n",
      "---  ------                          --------------   -----  \n",
      " 0   hotel                           119390 non-null  object \n",
      " 1   is_canceled                     119390 non-null  int64  \n",
      " 2   lead_time                       119390 non-null  int64  \n",
      " 3   arrival_date_year               119390 non-null  int64  \n",
      " 4   arrival_date_month              119390 non-null  object \n",
      " 5   arrival_date_week_number        119390 non-null  int64  \n",
      " 6   arrival_date_day_of_month       119390 non-null  int64  \n",
      " 7   stays_in_weekend_nights         119390 non-null  int64  \n",
      " 8   stays_in_week_nights            119390 non-null  int64  \n",
      " 9   adults                          119390 non-null  int64  \n",
      " 10  children                        119386 non-null  float64\n",
      " 11  babies                          119390 non-null  int64  \n",
      " 12  meal                            119390 non-null  object \n",
      " 13  country                         118902 non-null  object \n",
      " 14  market_segment                  119390 non-null  object \n",
      " 15  distribution_channel            119390 non-null  object \n",
      " 16  is_repeated_guest               119390 non-null  int64  \n",
      " 17  previous_cancellations          119390 non-null  int64  \n",
      " 18  previous_bookings_not_canceled  119390 non-null  int64  \n",
      " 19  reserved_room_type              119390 non-null  object \n",
      " 20  assigned_room_type              119390 non-null  object \n",
      " 21  booking_changes                 119390 non-null  int64  \n",
      " 22  deposit_type                    119390 non-null  object \n",
      " 23  agent                           103050 non-null  float64\n",
      " 24  company                         6797 non-null    float64\n",
      " 25  days_in_waiting_list            119390 non-null  int64  \n",
      " 26  customer_type                   119390 non-null  object \n",
      " 27  adr                             119390 non-null  float64\n",
      " 28  required_car_parking_spaces     119390 non-null  int64  \n",
      " 29  total_of_special_requests       119390 non-null  int64  \n",
      " 30  reservation_status              119390 non-null  object \n",
      " 31  reservation_status_date         119390 non-null  object \n",
      "dtypes: float64(4), int64(16), object(12)\n",
      "memory usage: 29.1+ MB\n"
     ]
    }
   ],
   "source": [
    "# summary data\n",
    "df.info()"
   ]
  },
  {
   "cell_type": "markdown",
   "metadata": {},
   "source": [
    "Terdapat 119390 baris dan 32 kolom, ada beberapa kolom yang memuat missing value"
   ]
  },
  {
   "cell_type": "code",
   "execution_count": 4,
   "metadata": {},
   "outputs": [],
   "source": [
    "# mengubah tipe data menjadi datetime\n",
    "df['reservation_status_date']= pd.to_datetime(df['reservation_status_date'])"
   ]
  },
  {
   "cell_type": "code",
   "execution_count": 5,
   "metadata": {},
   "outputs": [
    {
     "data": {
      "text/plain": [
       "hotel                                2\n",
       "is_canceled                          2\n",
       "lead_time                          479\n",
       "arrival_date_year                    3\n",
       "arrival_date_month                  12\n",
       "arrival_date_week_number            53\n",
       "arrival_date_day_of_month           31\n",
       "stays_in_weekend_nights             17\n",
       "stays_in_week_nights                35\n",
       "adults                              14\n",
       "children                             5\n",
       "babies                               5\n",
       "meal                                 5\n",
       "country                            177\n",
       "market_segment                       8\n",
       "distribution_channel                 5\n",
       "is_repeated_guest                    2\n",
       "previous_cancellations              15\n",
       "previous_bookings_not_canceled      73\n",
       "reserved_room_type                  10\n",
       "assigned_room_type                  12\n",
       "booking_changes                     21\n",
       "deposit_type                         3\n",
       "agent                              333\n",
       "company                            352\n",
       "days_in_waiting_list               128\n",
       "customer_type                        4\n",
       "adr                               8879\n",
       "required_car_parking_spaces          5\n",
       "total_of_special_requests            6\n",
       "reservation_status                   3\n",
       "reservation_status_date            926\n",
       "dtype: int64"
      ]
     },
     "execution_count": 5,
     "metadata": {},
     "output_type": "execute_result"
    }
   ],
   "source": [
    "# mengetahui jumlah data unik tiap kolom\n",
    "df.nunique()"
   ]
  },
  {
   "cell_type": "code",
   "execution_count": 6,
   "metadata": {},
   "outputs": [
    {
     "data": {
      "text/plain": [
       "hotel                                  0\n",
       "is_canceled                            0\n",
       "lead_time                              0\n",
       "arrival_date_year                      0\n",
       "arrival_date_month                     0\n",
       "arrival_date_week_number               0\n",
       "arrival_date_day_of_month              0\n",
       "stays_in_weekend_nights                0\n",
       "stays_in_week_nights                   0\n",
       "adults                                 0\n",
       "children                               4\n",
       "babies                                 0\n",
       "meal                                   0\n",
       "country                              488\n",
       "market_segment                         0\n",
       "distribution_channel                   0\n",
       "is_repeated_guest                      0\n",
       "previous_cancellations                 0\n",
       "previous_bookings_not_canceled         0\n",
       "reserved_room_type                     0\n",
       "assigned_room_type                     0\n",
       "booking_changes                        0\n",
       "deposit_type                           0\n",
       "agent                              16340\n",
       "company                           112593\n",
       "days_in_waiting_list                   0\n",
       "customer_type                          0\n",
       "adr                                    0\n",
       "required_car_parking_spaces            0\n",
       "total_of_special_requests              0\n",
       "reservation_status                     0\n",
       "reservation_status_date                0\n",
       "dtype: int64"
      ]
     },
     "execution_count": 6,
     "metadata": {},
     "output_type": "execute_result"
    }
   ],
   "source": [
    "# mengetahui jumlah nan pada setiap kolom\n",
    "df.isna().sum()"
   ]
  },
  {
   "cell_type": "markdown",
   "metadata": {},
   "source": [
    "ada 4 kolom yang memuat missing value, yaitu: children, country, agent, dan company. Missing value pada kolom children akan diisi dengan 0, pada kolom country akan diisi dengan 'other', serta kolom agent dan company akan di hapus karena memuat banyak missing value dan tidak penting dalam analisis."
   ]
  },
  {
   "cell_type": "code",
   "execution_count": 7,
   "metadata": {},
   "outputs": [],
   "source": [
    "# mengisian 0 pada nilai nan di kolom children dan country\n",
    "df['children'].fillna(0,inplace=True)\n",
    "df['country'].fillna('other',inplace=True)\n",
    "\n",
    "# menghapus kolom company dan agent\n",
    "df.drop(['company','agent'],axis=1,inplace=True)"
   ]
  },
  {
   "cell_type": "code",
   "execution_count": 8,
   "metadata": {},
   "outputs": [
    {
     "data": {
      "text/plain": [
       "hotel                             0\n",
       "is_canceled                       0\n",
       "lead_time                         0\n",
       "arrival_date_year                 0\n",
       "arrival_date_month                0\n",
       "arrival_date_week_number          0\n",
       "arrival_date_day_of_month         0\n",
       "stays_in_weekend_nights           0\n",
       "stays_in_week_nights              0\n",
       "adults                            0\n",
       "children                          0\n",
       "babies                            0\n",
       "meal                              0\n",
       "country                           0\n",
       "market_segment                    0\n",
       "distribution_channel              0\n",
       "is_repeated_guest                 0\n",
       "previous_cancellations            0\n",
       "previous_bookings_not_canceled    0\n",
       "reserved_room_type                0\n",
       "assigned_room_type                0\n",
       "booking_changes                   0\n",
       "deposit_type                      0\n",
       "days_in_waiting_list              0\n",
       "customer_type                     0\n",
       "adr                               0\n",
       "required_car_parking_spaces       0\n",
       "total_of_special_requests         0\n",
       "reservation_status                0\n",
       "reservation_status_date           0\n",
       "dtype: int64"
      ]
     },
     "execution_count": 8,
     "metadata": {},
     "output_type": "execute_result"
    }
   ],
   "source": [
    "# melihat jumlah nan dalam setiap kolom\n",
    "df.isna().sum()"
   ]
  },
  {
   "cell_type": "markdown",
   "metadata": {},
   "source": [
    "Data sudah bersih dari missing value"
   ]
  },
  {
   "cell_type": "code",
   "execution_count": 9,
   "metadata": {},
   "outputs": [
    {
     "name": "stdout",
     "output_type": "stream",
     "text": [
      "data duplikat: 32020\n",
      "data setalah dihapus duplikat:87370\n"
     ]
    }
   ],
   "source": [
    "# data duplikat\n",
    "print(f'data duplikat: {df.duplicated().sum()}')\n",
    "\n",
    "# menghapus data duplikat\n",
    "df.drop_duplicates(inplace=True)\n",
    "print(f'data setalah dihapus duplikat:{len(df)}')"
   ]
  },
  {
   "cell_type": "markdown",
   "metadata": {},
   "source": [
    "Terdapat duplikat baris sebanyak 32.020. Baris ini perlu dihapus agar tidak terjadi bias pada data. Baris duplikat telah dihapus, sehingga jumlah baris pada dataframe saat ini yaitu 87.370."
   ]
  },
  {
   "cell_type": "code",
   "execution_count": 10,
   "metadata": {},
   "outputs": [
    {
     "data": {
      "text/html": [
       "<div>\n",
       "<style scoped>\n",
       "    .dataframe tbody tr th:only-of-type {\n",
       "        vertical-align: middle;\n",
       "    }\n",
       "\n",
       "    .dataframe tbody tr th {\n",
       "        vertical-align: top;\n",
       "    }\n",
       "\n",
       "    .dataframe thead th {\n",
       "        text-align: right;\n",
       "    }\n",
       "</style>\n",
       "<table border=\"1\" class=\"dataframe\">\n",
       "  <thead>\n",
       "    <tr style=\"text-align: right;\">\n",
       "      <th></th>\n",
       "      <th>is_canceled</th>\n",
       "      <th>lead_time</th>\n",
       "      <th>arrival_date_year</th>\n",
       "      <th>arrival_date_week_number</th>\n",
       "      <th>arrival_date_day_of_month</th>\n",
       "      <th>stays_in_weekend_nights</th>\n",
       "      <th>stays_in_week_nights</th>\n",
       "      <th>adults</th>\n",
       "      <th>children</th>\n",
       "      <th>babies</th>\n",
       "      <th>is_repeated_guest</th>\n",
       "      <th>previous_cancellations</th>\n",
       "      <th>previous_bookings_not_canceled</th>\n",
       "      <th>booking_changes</th>\n",
       "      <th>days_in_waiting_list</th>\n",
       "      <th>adr</th>\n",
       "      <th>required_car_parking_spaces</th>\n",
       "      <th>total_of_special_requests</th>\n",
       "    </tr>\n",
       "  </thead>\n",
       "  <tbody>\n",
       "    <tr>\n",
       "      <th>count</th>\n",
       "      <td>87370.000000</td>\n",
       "      <td>87370.000000</td>\n",
       "      <td>87370.000000</td>\n",
       "      <td>87370.000000</td>\n",
       "      <td>87370.000000</td>\n",
       "      <td>87370.000000</td>\n",
       "      <td>87370.000000</td>\n",
       "      <td>87370.000000</td>\n",
       "      <td>87370.000000</td>\n",
       "      <td>87370.000000</td>\n",
       "      <td>87370.000000</td>\n",
       "      <td>87370.000000</td>\n",
       "      <td>87370.000000</td>\n",
       "      <td>87370.000000</td>\n",
       "      <td>87370.000000</td>\n",
       "      <td>87370.000000</td>\n",
       "      <td>87370.000000</td>\n",
       "      <td>87370.000000</td>\n",
       "    </tr>\n",
       "    <tr>\n",
       "      <th>mean</th>\n",
       "      <td>0.274934</td>\n",
       "      <td>79.900595</td>\n",
       "      <td>2016.210312</td>\n",
       "      <td>26.838549</td>\n",
       "      <td>15.815967</td>\n",
       "      <td>1.005414</td>\n",
       "      <td>2.625604</td>\n",
       "      <td>1.875873</td>\n",
       "      <td>0.138675</td>\n",
       "      <td>0.010805</td>\n",
       "      <td>0.039087</td>\n",
       "      <td>0.030422</td>\n",
       "      <td>0.184045</td>\n",
       "      <td>0.271661</td>\n",
       "      <td>0.749788</td>\n",
       "      <td>106.343157</td>\n",
       "      <td>0.084251</td>\n",
       "      <td>0.698649</td>\n",
       "    </tr>\n",
       "    <tr>\n",
       "      <th>std</th>\n",
       "      <td>0.446484</td>\n",
       "      <td>86.055086</td>\n",
       "      <td>0.686075</td>\n",
       "      <td>13.674188</td>\n",
       "      <td>8.835216</td>\n",
       "      <td>1.031980</td>\n",
       "      <td>2.053693</td>\n",
       "      <td>0.626521</td>\n",
       "      <td>0.455933</td>\n",
       "      <td>0.113515</td>\n",
       "      <td>0.193802</td>\n",
       "      <td>0.369200</td>\n",
       "      <td>1.732148</td>\n",
       "      <td>0.727331</td>\n",
       "      <td>10.017213</td>\n",
       "      <td>55.016143</td>\n",
       "      <td>0.281571</td>\n",
       "      <td>0.831985</td>\n",
       "    </tr>\n",
       "    <tr>\n",
       "      <th>min</th>\n",
       "      <td>0.000000</td>\n",
       "      <td>0.000000</td>\n",
       "      <td>2015.000000</td>\n",
       "      <td>1.000000</td>\n",
       "      <td>1.000000</td>\n",
       "      <td>0.000000</td>\n",
       "      <td>0.000000</td>\n",
       "      <td>0.000000</td>\n",
       "      <td>0.000000</td>\n",
       "      <td>0.000000</td>\n",
       "      <td>0.000000</td>\n",
       "      <td>0.000000</td>\n",
       "      <td>0.000000</td>\n",
       "      <td>0.000000</td>\n",
       "      <td>0.000000</td>\n",
       "      <td>-6.380000</td>\n",
       "      <td>0.000000</td>\n",
       "      <td>0.000000</td>\n",
       "    </tr>\n",
       "    <tr>\n",
       "      <th>25%</th>\n",
       "      <td>0.000000</td>\n",
       "      <td>11.000000</td>\n",
       "      <td>2016.000000</td>\n",
       "      <td>16.000000</td>\n",
       "      <td>8.000000</td>\n",
       "      <td>0.000000</td>\n",
       "      <td>1.000000</td>\n",
       "      <td>2.000000</td>\n",
       "      <td>0.000000</td>\n",
       "      <td>0.000000</td>\n",
       "      <td>0.000000</td>\n",
       "      <td>0.000000</td>\n",
       "      <td>0.000000</td>\n",
       "      <td>0.000000</td>\n",
       "      <td>0.000000</td>\n",
       "      <td>72.000000</td>\n",
       "      <td>0.000000</td>\n",
       "      <td>0.000000</td>\n",
       "    </tr>\n",
       "    <tr>\n",
       "      <th>50%</th>\n",
       "      <td>0.000000</td>\n",
       "      <td>49.000000</td>\n",
       "      <td>2016.000000</td>\n",
       "      <td>27.000000</td>\n",
       "      <td>16.000000</td>\n",
       "      <td>1.000000</td>\n",
       "      <td>2.000000</td>\n",
       "      <td>2.000000</td>\n",
       "      <td>0.000000</td>\n",
       "      <td>0.000000</td>\n",
       "      <td>0.000000</td>\n",
       "      <td>0.000000</td>\n",
       "      <td>0.000000</td>\n",
       "      <td>0.000000</td>\n",
       "      <td>0.000000</td>\n",
       "      <td>98.100000</td>\n",
       "      <td>0.000000</td>\n",
       "      <td>0.000000</td>\n",
       "    </tr>\n",
       "    <tr>\n",
       "      <th>75%</th>\n",
       "      <td>1.000000</td>\n",
       "      <td>125.000000</td>\n",
       "      <td>2017.000000</td>\n",
       "      <td>37.000000</td>\n",
       "      <td>23.000000</td>\n",
       "      <td>2.000000</td>\n",
       "      <td>4.000000</td>\n",
       "      <td>2.000000</td>\n",
       "      <td>0.000000</td>\n",
       "      <td>0.000000</td>\n",
       "      <td>0.000000</td>\n",
       "      <td>0.000000</td>\n",
       "      <td>0.000000</td>\n",
       "      <td>0.000000</td>\n",
       "      <td>0.000000</td>\n",
       "      <td>134.000000</td>\n",
       "      <td>0.000000</td>\n",
       "      <td>1.000000</td>\n",
       "    </tr>\n",
       "    <tr>\n",
       "      <th>max</th>\n",
       "      <td>1.000000</td>\n",
       "      <td>737.000000</td>\n",
       "      <td>2017.000000</td>\n",
       "      <td>53.000000</td>\n",
       "      <td>31.000000</td>\n",
       "      <td>19.000000</td>\n",
       "      <td>50.000000</td>\n",
       "      <td>55.000000</td>\n",
       "      <td>10.000000</td>\n",
       "      <td>10.000000</td>\n",
       "      <td>1.000000</td>\n",
       "      <td>26.000000</td>\n",
       "      <td>72.000000</td>\n",
       "      <td>21.000000</td>\n",
       "      <td>391.000000</td>\n",
       "      <td>5400.000000</td>\n",
       "      <td>8.000000</td>\n",
       "      <td>5.000000</td>\n",
       "    </tr>\n",
       "  </tbody>\n",
       "</table>\n",
       "</div>"
      ],
      "text/plain": [
       "        is_canceled     lead_time  arrival_date_year  \\\n",
       "count  87370.000000  87370.000000       87370.000000   \n",
       "mean       0.274934     79.900595        2016.210312   \n",
       "std        0.446484     86.055086           0.686075   \n",
       "min        0.000000      0.000000        2015.000000   \n",
       "25%        0.000000     11.000000        2016.000000   \n",
       "50%        0.000000     49.000000        2016.000000   \n",
       "75%        1.000000    125.000000        2017.000000   \n",
       "max        1.000000    737.000000        2017.000000   \n",
       "\n",
       "       arrival_date_week_number  arrival_date_day_of_month  \\\n",
       "count              87370.000000               87370.000000   \n",
       "mean                  26.838549                  15.815967   \n",
       "std                   13.674188                   8.835216   \n",
       "min                    1.000000                   1.000000   \n",
       "25%                   16.000000                   8.000000   \n",
       "50%                   27.000000                  16.000000   \n",
       "75%                   37.000000                  23.000000   \n",
       "max                   53.000000                  31.000000   \n",
       "\n",
       "       stays_in_weekend_nights  stays_in_week_nights        adults  \\\n",
       "count             87370.000000          87370.000000  87370.000000   \n",
       "mean                  1.005414              2.625604      1.875873   \n",
       "std                   1.031980              2.053693      0.626521   \n",
       "min                   0.000000              0.000000      0.000000   \n",
       "25%                   0.000000              1.000000      2.000000   \n",
       "50%                   1.000000              2.000000      2.000000   \n",
       "75%                   2.000000              4.000000      2.000000   \n",
       "max                  19.000000             50.000000     55.000000   \n",
       "\n",
       "           children        babies  is_repeated_guest  previous_cancellations  \\\n",
       "count  87370.000000  87370.000000       87370.000000            87370.000000   \n",
       "mean       0.138675      0.010805           0.039087                0.030422   \n",
       "std        0.455933      0.113515           0.193802                0.369200   \n",
       "min        0.000000      0.000000           0.000000                0.000000   \n",
       "25%        0.000000      0.000000           0.000000                0.000000   \n",
       "50%        0.000000      0.000000           0.000000                0.000000   \n",
       "75%        0.000000      0.000000           0.000000                0.000000   \n",
       "max       10.000000     10.000000           1.000000               26.000000   \n",
       "\n",
       "       previous_bookings_not_canceled  booking_changes  days_in_waiting_list  \\\n",
       "count                    87370.000000     87370.000000          87370.000000   \n",
       "mean                         0.184045         0.271661              0.749788   \n",
       "std                          1.732148         0.727331             10.017213   \n",
       "min                          0.000000         0.000000              0.000000   \n",
       "25%                          0.000000         0.000000              0.000000   \n",
       "50%                          0.000000         0.000000              0.000000   \n",
       "75%                          0.000000         0.000000              0.000000   \n",
       "max                         72.000000        21.000000            391.000000   \n",
       "\n",
       "                adr  required_car_parking_spaces  total_of_special_requests  \n",
       "count  87370.000000                 87370.000000               87370.000000  \n",
       "mean     106.343157                     0.084251                   0.698649  \n",
       "std       55.016143                     0.281571                   0.831985  \n",
       "min       -6.380000                     0.000000                   0.000000  \n",
       "25%       72.000000                     0.000000                   0.000000  \n",
       "50%       98.100000                     0.000000                   0.000000  \n",
       "75%      134.000000                     0.000000                   1.000000  \n",
       "max     5400.000000                     8.000000                   5.000000  "
      ]
     },
     "execution_count": 10,
     "metadata": {},
     "output_type": "execute_result"
    }
   ],
   "source": [
    "# melihat nilai statistik data\n",
    "df.describe()"
   ]
  },
  {
   "cell_type": "markdown",
   "metadata": {},
   "source": [
    "Dari tabel diatas dapat dilihat bahwa minimum dari adr adalah negatif. Hal itu tidak mungkin terjadi, maka akan dilakukan penghapusan pada baris tersebut. Nilai Maksimal dari adr juga terlihat sangat besar apabila dibandingkan dengan nilai mean dan median, Maka dibuat box plot untuk melihat datanya."
   ]
  },
  {
   "cell_type": "code",
   "execution_count": 11,
   "metadata": {},
   "outputs": [
    {
     "data": {
      "text/plain": [
       "<AxesSubplot:>"
      ]
     },
     "execution_count": 11,
     "metadata": {},
     "output_type": "execute_result"
    },
    {
     "data": {
      "image/png": "[encoded data removed]",
      "text/plain": [
       "<Figure size 432x288 with 1 Axes>"
      ]
     },
     "metadata": {
      "needs_background": "light"
     },
     "output_type": "display_data"
    }
   ],
   "source": [
    "# membuat box plot\n",
    "df['adr'].plot(kind='box')"
   ]
  },
  {
   "cell_type": "code",
   "execution_count": 12,
   "metadata": {},
   "outputs": [
    {
     "data": {
      "text/html": [
       "<div>\n",
       "<style scoped>\n",
       "    .dataframe tbody tr th:only-of-type {\n",
       "        vertical-align: middle;\n",
       "    }\n",
       "\n",
       "    .dataframe tbody tr th {\n",
       "        vertical-align: top;\n",
       "    }\n",
       "\n",
       "    .dataframe thead th {\n",
       "        text-align: right;\n",
       "    }\n",
       "</style>\n",
       "<table border=\"1\" class=\"dataframe\">\n",
       "  <thead>\n",
       "    <tr style=\"text-align: right;\">\n",
       "      <th></th>\n",
       "      <th>hotel</th>\n",
       "      <th>is_canceled</th>\n",
       "      <th>lead_time</th>\n",
       "      <th>arrival_date_year</th>\n",
       "      <th>arrival_date_month</th>\n",
       "      <th>arrival_date_week_number</th>\n",
       "      <th>arrival_date_day_of_month</th>\n",
       "      <th>stays_in_weekend_nights</th>\n",
       "      <th>stays_in_week_nights</th>\n",
       "      <th>adults</th>\n",
       "      <th>...</th>\n",
       "      <th>assigned_room_type</th>\n",
       "      <th>booking_changes</th>\n",
       "      <th>deposit_type</th>\n",
       "      <th>days_in_waiting_list</th>\n",
       "      <th>customer_type</th>\n",
       "      <th>adr</th>\n",
       "      <th>required_car_parking_spaces</th>\n",
       "      <th>total_of_special_requests</th>\n",
       "      <th>reservation_status</th>\n",
       "      <th>reservation_status_date</th>\n",
       "    </tr>\n",
       "  </thead>\n",
       "  <tbody>\n",
       "    <tr>\n",
       "      <th>48515</th>\n",
       "      <td>City Hotel</td>\n",
       "      <td>1</td>\n",
       "      <td>35</td>\n",
       "      <td>2016</td>\n",
       "      <td>March</td>\n",
       "      <td>13</td>\n",
       "      <td>25</td>\n",
       "      <td>0</td>\n",
       "      <td>1</td>\n",
       "      <td>2</td>\n",
       "      <td>...</td>\n",
       "      <td>A</td>\n",
       "      <td>1</td>\n",
       "      <td>Non Refund</td>\n",
       "      <td>0</td>\n",
       "      <td>Transient</td>\n",
       "      <td>5400.0</td>\n",
       "      <td>0</td>\n",
       "      <td>0</td>\n",
       "      <td>Canceled</td>\n",
       "      <td>2016-02-19</td>\n",
       "    </tr>\n",
       "  </tbody>\n",
       "</table>\n",
       "<p>1 rows × 30 columns</p>\n",
       "</div>"
      ],
      "text/plain": [
       "            hotel  is_canceled  lead_time  arrival_date_year  \\\n",
       "48515  City Hotel            1         35               2016   \n",
       "\n",
       "      arrival_date_month  arrival_date_week_number  arrival_date_day_of_month  \\\n",
       "48515              March                        13                         25   \n",
       "\n",
       "       stays_in_weekend_nights  stays_in_week_nights  adults  ...  \\\n",
       "48515                        0                     1       2  ...   \n",
       "\n",
       "       assigned_room_type  booking_changes deposit_type days_in_waiting_list  \\\n",
       "48515                   A                1   Non Refund                    0   \n",
       "\n",
       "      customer_type     adr  required_car_parking_spaces  \\\n",
       "48515     Transient  5400.0                            0   \n",
       "\n",
       "       total_of_special_requests  reservation_status reservation_status_date  \n",
       "48515                          0            Canceled              2016-02-19  \n",
       "\n",
       "[1 rows x 30 columns]"
      ]
     },
     "execution_count": 12,
     "metadata": {},
     "output_type": "execute_result"
    }
   ],
   "source": [
    "df[(df['adr'] > 600)]"
   ]
  },
  {
   "cell_type": "markdown",
   "metadata": {},
   "source": [
    "Terdapat 1 nilai yang sangat jauh dari nilai-nilai yang lain. Nilai ini kemungkinan salah input, maka dilakukan penghapusan pada baris yang mengandung nilai tersebut"
   ]
  },
  {
   "cell_type": "code",
   "execution_count": 13,
   "metadata": {},
   "outputs": [],
   "source": [
    "# melakukan filter agar baris yang memuat adr negatif dan outlier tidak masuk kedalam dataframe\n",
    "df = df[(df['adr'] > 0) |(df['adr'] < 500) ]"
   ]
  },
  {
   "cell_type": "code",
   "execution_count": 14,
   "metadata": {},
   "outputs": [
    {
     "data": {
      "text/html": [
       "<div>\n",
       "<style scoped>\n",
       "    .dataframe tbody tr th:only-of-type {\n",
       "        vertical-align: middle;\n",
       "    }\n",
       "\n",
       "    .dataframe tbody tr th {\n",
       "        vertical-align: top;\n",
       "    }\n",
       "\n",
       "    .dataframe thead th {\n",
       "        text-align: right;\n",
       "    }\n",
       "</style>\n",
       "<table border=\"1\" class=\"dataframe\">\n",
       "  <thead>\n",
       "    <tr style=\"text-align: right;\">\n",
       "      <th></th>\n",
       "      <th>adults</th>\n",
       "      <th>children</th>\n",
       "      <th>babies</th>\n",
       "    </tr>\n",
       "  </thead>\n",
       "  <tbody>\n",
       "    <tr>\n",
       "      <th>2224</th>\n",
       "      <td>0</td>\n",
       "      <td>0.0</td>\n",
       "      <td>0</td>\n",
       "    </tr>\n",
       "    <tr>\n",
       "      <th>2409</th>\n",
       "      <td>0</td>\n",
       "      <td>0.0</td>\n",
       "      <td>0</td>\n",
       "    </tr>\n",
       "    <tr>\n",
       "      <th>3181</th>\n",
       "      <td>0</td>\n",
       "      <td>0.0</td>\n",
       "      <td>0</td>\n",
       "    </tr>\n",
       "    <tr>\n",
       "      <th>3684</th>\n",
       "      <td>0</td>\n",
       "      <td>0.0</td>\n",
       "      <td>0</td>\n",
       "    </tr>\n",
       "    <tr>\n",
       "      <th>3708</th>\n",
       "      <td>0</td>\n",
       "      <td>0.0</td>\n",
       "      <td>0</td>\n",
       "    </tr>\n",
       "    <tr>\n",
       "      <th>...</th>\n",
       "      <td>...</td>\n",
       "      <td>...</td>\n",
       "      <td>...</td>\n",
       "    </tr>\n",
       "    <tr>\n",
       "      <th>115029</th>\n",
       "      <td>0</td>\n",
       "      <td>0.0</td>\n",
       "      <td>0</td>\n",
       "    </tr>\n",
       "    <tr>\n",
       "      <th>115091</th>\n",
       "      <td>0</td>\n",
       "      <td>0.0</td>\n",
       "      <td>0</td>\n",
       "    </tr>\n",
       "    <tr>\n",
       "      <th>116251</th>\n",
       "      <td>0</td>\n",
       "      <td>0.0</td>\n",
       "      <td>0</td>\n",
       "    </tr>\n",
       "    <tr>\n",
       "      <th>116534</th>\n",
       "      <td>0</td>\n",
       "      <td>0.0</td>\n",
       "      <td>0</td>\n",
       "    </tr>\n",
       "    <tr>\n",
       "      <th>117087</th>\n",
       "      <td>0</td>\n",
       "      <td>0.0</td>\n",
       "      <td>0</td>\n",
       "    </tr>\n",
       "  </tbody>\n",
       "</table>\n",
       "<p>166 rows × 3 columns</p>\n",
       "</div>"
      ],
      "text/plain": [
       "        adults  children  babies\n",
       "2224         0       0.0       0\n",
       "2409         0       0.0       0\n",
       "3181         0       0.0       0\n",
       "3684         0       0.0       0\n",
       "3708         0       0.0       0\n",
       "...        ...       ...     ...\n",
       "115029       0       0.0       0\n",
       "115091       0       0.0       0\n",
       "116251       0       0.0       0\n",
       "116534       0       0.0       0\n",
       "117087       0       0.0       0\n",
       "\n",
       "[166 rows x 3 columns]"
      ]
     },
     "execution_count": 14,
     "metadata": {},
     "output_type": "execute_result"
    }
   ],
   "source": [
    "# melakukan pengecekan apakah ada pemesanan yang tidak ada pengunjung\n",
    "df[['adults','children','babies']][(df['adults']==0) & (df['children']==0) & (df['babies']==0)]"
   ]
  },
  {
   "cell_type": "markdown",
   "metadata": {},
   "source": [
    "Banyak pemesanan yang tidak memiliki pengunjung. Hal itu mustahil, maka dilakukan penghapusan pada baris tersebut."
   ]
  },
  {
   "cell_type": "code",
   "execution_count": 15,
   "metadata": {},
   "outputs": [],
   "source": [
    "# penghapusan baris yang tidak ada pengunjung\n",
    "df = df.drop(df[(df['adults']==0) & (df['children']==0) & (df['babies']==0)].index)"
   ]
  },
  {
   "cell_type": "code",
   "execution_count": 16,
   "metadata": {},
   "outputs": [
    {
     "data": {
      "text/html": [
       "<div>\n",
       "<style scoped>\n",
       "    .dataframe tbody tr th:only-of-type {\n",
       "        vertical-align: middle;\n",
       "    }\n",
       "\n",
       "    .dataframe tbody tr th {\n",
       "        vertical-align: top;\n",
       "    }\n",
       "\n",
       "    .dataframe thead th {\n",
       "        text-align: right;\n",
       "    }\n",
       "</style>\n",
       "<table border=\"1\" class=\"dataframe\">\n",
       "  <thead>\n",
       "    <tr style=\"text-align: right;\">\n",
       "      <th></th>\n",
       "      <th>hotel</th>\n",
       "      <th>is_canceled</th>\n",
       "      <th>lead_time</th>\n",
       "      <th>arrival_date_year</th>\n",
       "      <th>arrival_date_month</th>\n",
       "      <th>arrival_date_week_number</th>\n",
       "      <th>arrival_date_day_of_month</th>\n",
       "      <th>stays_in_weekend_nights</th>\n",
       "      <th>stays_in_week_nights</th>\n",
       "      <th>adults</th>\n",
       "      <th>...</th>\n",
       "      <th>assigned_room_type</th>\n",
       "      <th>booking_changes</th>\n",
       "      <th>deposit_type</th>\n",
       "      <th>days_in_waiting_list</th>\n",
       "      <th>customer_type</th>\n",
       "      <th>adr</th>\n",
       "      <th>required_car_parking_spaces</th>\n",
       "      <th>total_of_special_requests</th>\n",
       "      <th>reservation_status</th>\n",
       "      <th>reservation_status_date</th>\n",
       "    </tr>\n",
       "  </thead>\n",
       "  <tbody>\n",
       "    <tr>\n",
       "      <th>0</th>\n",
       "      <td>Resort Hotel</td>\n",
       "      <td>0</td>\n",
       "      <td>342</td>\n",
       "      <td>2015</td>\n",
       "      <td>July</td>\n",
       "      <td>27</td>\n",
       "      <td>1</td>\n",
       "      <td>0</td>\n",
       "      <td>0</td>\n",
       "      <td>2</td>\n",
       "      <td>...</td>\n",
       "      <td>C</td>\n",
       "      <td>3</td>\n",
       "      <td>No Deposit</td>\n",
       "      <td>0</td>\n",
       "      <td>Transient</td>\n",
       "      <td>0.0</td>\n",
       "      <td>0</td>\n",
       "      <td>0</td>\n",
       "      <td>Check-Out</td>\n",
       "      <td>2015-07-01</td>\n",
       "    </tr>\n",
       "    <tr>\n",
       "      <th>1</th>\n",
       "      <td>Resort Hotel</td>\n",
       "      <td>0</td>\n",
       "      <td>737</td>\n",
       "      <td>2015</td>\n",
       "      <td>July</td>\n",
       "      <td>27</td>\n",
       "      <td>1</td>\n",
       "      <td>0</td>\n",
       "      <td>0</td>\n",
       "      <td>2</td>\n",
       "      <td>...</td>\n",
       "      <td>C</td>\n",
       "      <td>4</td>\n",
       "      <td>No Deposit</td>\n",
       "      <td>0</td>\n",
       "      <td>Transient</td>\n",
       "      <td>0.0</td>\n",
       "      <td>0</td>\n",
       "      <td>0</td>\n",
       "      <td>Check-Out</td>\n",
       "      <td>2015-07-01</td>\n",
       "    </tr>\n",
       "    <tr>\n",
       "      <th>167</th>\n",
       "      <td>Resort Hotel</td>\n",
       "      <td>0</td>\n",
       "      <td>111</td>\n",
       "      <td>2015</td>\n",
       "      <td>July</td>\n",
       "      <td>28</td>\n",
       "      <td>6</td>\n",
       "      <td>0</td>\n",
       "      <td>0</td>\n",
       "      <td>2</td>\n",
       "      <td>...</td>\n",
       "      <td>H</td>\n",
       "      <td>0</td>\n",
       "      <td>No Deposit</td>\n",
       "      <td>0</td>\n",
       "      <td>Transient</td>\n",
       "      <td>0.0</td>\n",
       "      <td>0</td>\n",
       "      <td>2</td>\n",
       "      <td>Check-Out</td>\n",
       "      <td>2015-07-06</td>\n",
       "    </tr>\n",
       "    <tr>\n",
       "      <th>168</th>\n",
       "      <td>Resort Hotel</td>\n",
       "      <td>0</td>\n",
       "      <td>0</td>\n",
       "      <td>2015</td>\n",
       "      <td>July</td>\n",
       "      <td>28</td>\n",
       "      <td>6</td>\n",
       "      <td>0</td>\n",
       "      <td>0</td>\n",
       "      <td>1</td>\n",
       "      <td>...</td>\n",
       "      <td>H</td>\n",
       "      <td>0</td>\n",
       "      <td>No Deposit</td>\n",
       "      <td>0</td>\n",
       "      <td>Transient</td>\n",
       "      <td>0.0</td>\n",
       "      <td>0</td>\n",
       "      <td>0</td>\n",
       "      <td>Check-Out</td>\n",
       "      <td>2015-07-06</td>\n",
       "    </tr>\n",
       "    <tr>\n",
       "      <th>196</th>\n",
       "      <td>Resort Hotel</td>\n",
       "      <td>0</td>\n",
       "      <td>8</td>\n",
       "      <td>2015</td>\n",
       "      <td>July</td>\n",
       "      <td>28</td>\n",
       "      <td>7</td>\n",
       "      <td>0</td>\n",
       "      <td>0</td>\n",
       "      <td>2</td>\n",
       "      <td>...</td>\n",
       "      <td>A</td>\n",
       "      <td>0</td>\n",
       "      <td>No Deposit</td>\n",
       "      <td>0</td>\n",
       "      <td>Transient</td>\n",
       "      <td>0.0</td>\n",
       "      <td>0</td>\n",
       "      <td>1</td>\n",
       "      <td>Check-Out</td>\n",
       "      <td>2015-07-07</td>\n",
       "    </tr>\n",
       "    <tr>\n",
       "      <th>...</th>\n",
       "      <td>...</td>\n",
       "      <td>...</td>\n",
       "      <td>...</td>\n",
       "      <td>...</td>\n",
       "      <td>...</td>\n",
       "      <td>...</td>\n",
       "      <td>...</td>\n",
       "      <td>...</td>\n",
       "      <td>...</td>\n",
       "      <td>...</td>\n",
       "      <td>...</td>\n",
       "      <td>...</td>\n",
       "      <td>...</td>\n",
       "      <td>...</td>\n",
       "      <td>...</td>\n",
       "      <td>...</td>\n",
       "      <td>...</td>\n",
       "      <td>...</td>\n",
       "      <td>...</td>\n",
       "      <td>...</td>\n",
       "      <td>...</td>\n",
       "    </tr>\n",
       "    <tr>\n",
       "      <th>115483</th>\n",
       "      <td>City Hotel</td>\n",
       "      <td>0</td>\n",
       "      <td>15</td>\n",
       "      <td>2017</td>\n",
       "      <td>July</td>\n",
       "      <td>27</td>\n",
       "      <td>6</td>\n",
       "      <td>0</td>\n",
       "      <td>0</td>\n",
       "      <td>1</td>\n",
       "      <td>...</td>\n",
       "      <td>A</td>\n",
       "      <td>0</td>\n",
       "      <td>No Deposit</td>\n",
       "      <td>0</td>\n",
       "      <td>Transient-Party</td>\n",
       "      <td>0.0</td>\n",
       "      <td>0</td>\n",
       "      <td>0</td>\n",
       "      <td>Check-Out</td>\n",
       "      <td>2017-07-06</td>\n",
       "    </tr>\n",
       "    <tr>\n",
       "      <th>117701</th>\n",
       "      <td>City Hotel</td>\n",
       "      <td>0</td>\n",
       "      <td>0</td>\n",
       "      <td>2017</td>\n",
       "      <td>August</td>\n",
       "      <td>32</td>\n",
       "      <td>8</td>\n",
       "      <td>0</td>\n",
       "      <td>0</td>\n",
       "      <td>2</td>\n",
       "      <td>...</td>\n",
       "      <td>A</td>\n",
       "      <td>0</td>\n",
       "      <td>No Deposit</td>\n",
       "      <td>0</td>\n",
       "      <td>Transient</td>\n",
       "      <td>0.0</td>\n",
       "      <td>0</td>\n",
       "      <td>0</td>\n",
       "      <td>Check-Out</td>\n",
       "      <td>2017-08-08</td>\n",
       "    </tr>\n",
       "    <tr>\n",
       "      <th>118029</th>\n",
       "      <td>City Hotel</td>\n",
       "      <td>0</td>\n",
       "      <td>0</td>\n",
       "      <td>2017</td>\n",
       "      <td>August</td>\n",
       "      <td>33</td>\n",
       "      <td>14</td>\n",
       "      <td>0</td>\n",
       "      <td>0</td>\n",
       "      <td>2</td>\n",
       "      <td>...</td>\n",
       "      <td>A</td>\n",
       "      <td>0</td>\n",
       "      <td>No Deposit</td>\n",
       "      <td>0</td>\n",
       "      <td>Transient</td>\n",
       "      <td>0.0</td>\n",
       "      <td>0</td>\n",
       "      <td>0</td>\n",
       "      <td>Check-Out</td>\n",
       "      <td>2017-08-14</td>\n",
       "    </tr>\n",
       "    <tr>\n",
       "      <th>118631</th>\n",
       "      <td>City Hotel</td>\n",
       "      <td>0</td>\n",
       "      <td>78</td>\n",
       "      <td>2017</td>\n",
       "      <td>August</td>\n",
       "      <td>34</td>\n",
       "      <td>23</td>\n",
       "      <td>0</td>\n",
       "      <td>0</td>\n",
       "      <td>1</td>\n",
       "      <td>...</td>\n",
       "      <td>K</td>\n",
       "      <td>7</td>\n",
       "      <td>No Deposit</td>\n",
       "      <td>0</td>\n",
       "      <td>Transient-Party</td>\n",
       "      <td>0.0</td>\n",
       "      <td>0</td>\n",
       "      <td>0</td>\n",
       "      <td>Check-Out</td>\n",
       "      <td>2017-08-23</td>\n",
       "    </tr>\n",
       "    <tr>\n",
       "      <th>118963</th>\n",
       "      <td>City Hotel</td>\n",
       "      <td>0</td>\n",
       "      <td>1</td>\n",
       "      <td>2017</td>\n",
       "      <td>August</td>\n",
       "      <td>35</td>\n",
       "      <td>27</td>\n",
       "      <td>0</td>\n",
       "      <td>0</td>\n",
       "      <td>2</td>\n",
       "      <td>...</td>\n",
       "      <td>A</td>\n",
       "      <td>0</td>\n",
       "      <td>No Deposit</td>\n",
       "      <td>0</td>\n",
       "      <td>Transient</td>\n",
       "      <td>0.0</td>\n",
       "      <td>0</td>\n",
       "      <td>0</td>\n",
       "      <td>Check-Out</td>\n",
       "      <td>2017-08-27</td>\n",
       "    </tr>\n",
       "  </tbody>\n",
       "</table>\n",
       "<p>591 rows × 30 columns</p>\n",
       "</div>"
      ],
      "text/plain": [
       "               hotel  is_canceled  lead_time  arrival_date_year  \\\n",
       "0       Resort Hotel            0        342               2015   \n",
       "1       Resort Hotel            0        737               2015   \n",
       "167     Resort Hotel            0        111               2015   \n",
       "168     Resort Hotel            0          0               2015   \n",
       "196     Resort Hotel            0          8               2015   \n",
       "...              ...          ...        ...                ...   \n",
       "115483    City Hotel            0         15               2017   \n",
       "117701    City Hotel            0          0               2017   \n",
       "118029    City Hotel            0          0               2017   \n",
       "118631    City Hotel            0         78               2017   \n",
       "118963    City Hotel            0          1               2017   \n",
       "\n",
       "       arrival_date_month  arrival_date_week_number  \\\n",
       "0                    July                        27   \n",
       "1                    July                        27   \n",
       "167                  July                        28   \n",
       "168                  July                        28   \n",
       "196                  July                        28   \n",
       "...                   ...                       ...   \n",
       "115483               July                        27   \n",
       "117701             August                        32   \n",
       "118029             August                        33   \n",
       "118631             August                        34   \n",
       "118963             August                        35   \n",
       "\n",
       "        arrival_date_day_of_month  stays_in_weekend_nights  \\\n",
       "0                               1                        0   \n",
       "1                               1                        0   \n",
       "167                             6                        0   \n",
       "168                             6                        0   \n",
       "196                             7                        0   \n",
       "...                           ...                      ...   \n",
       "115483                          6                        0   \n",
       "117701                          8                        0   \n",
       "118029                         14                        0   \n",
       "118631                         23                        0   \n",
       "118963                         27                        0   \n",
       "\n",
       "        stays_in_week_nights  adults  ...  assigned_room_type  \\\n",
       "0                          0       2  ...                   C   \n",
       "1                          0       2  ...                   C   \n",
       "167                        0       2  ...                   H   \n",
       "168                        0       1  ...                   H   \n",
       "196                        0       2  ...                   A   \n",
       "...                      ...     ...  ...                 ...   \n",
       "115483                     0       1  ...                   A   \n",
       "117701                     0       2  ...                   A   \n",
       "118029                     0       2  ...                   A   \n",
       "118631                     0       1  ...                   K   \n",
       "118963                     0       2  ...                   A   \n",
       "\n",
       "        booking_changes deposit_type days_in_waiting_list    customer_type  \\\n",
       "0                     3   No Deposit                    0        Transient   \n",
       "1                     4   No Deposit                    0        Transient   \n",
       "167                   0   No Deposit                    0        Transient   \n",
       "168                   0   No Deposit                    0        Transient   \n",
       "196                   0   No Deposit                    0        Transient   \n",
       "...                 ...          ...                  ...              ...   \n",
       "115483                0   No Deposit                    0  Transient-Party   \n",
       "117701                0   No Deposit                    0        Transient   \n",
       "118029                0   No Deposit                    0        Transient   \n",
       "118631                7   No Deposit                    0  Transient-Party   \n",
       "118963                0   No Deposit                    0        Transient   \n",
       "\n",
       "        adr  required_car_parking_spaces  total_of_special_requests  \\\n",
       "0       0.0                            0                          0   \n",
       "1       0.0                            0                          0   \n",
       "167     0.0                            0                          2   \n",
       "168     0.0                            0                          0   \n",
       "196     0.0                            0                          1   \n",
       "...     ...                          ...                        ...   \n",
       "115483  0.0                            0                          0   \n",
       "117701  0.0                            0                          0   \n",
       "118029  0.0                            0                          0   \n",
       "118631  0.0                            0                          0   \n",
       "118963  0.0                            0                          0   \n",
       "\n",
       "        reservation_status reservation_status_date  \n",
       "0                Check-Out              2015-07-01  \n",
       "1                Check-Out              2015-07-01  \n",
       "167              Check-Out              2015-07-06  \n",
       "168              Check-Out              2015-07-06  \n",
       "196              Check-Out              2015-07-07  \n",
       "...                    ...                     ...  \n",
       "115483           Check-Out              2017-07-06  \n",
       "117701           Check-Out              2017-08-08  \n",
       "118029           Check-Out              2017-08-14  \n",
       "118631           Check-Out              2017-08-23  \n",
       "118963           Check-Out              2017-08-27  \n",
       "\n",
       "[591 rows x 30 columns]"
      ]
     },
     "execution_count": 16,
     "metadata": {},
     "output_type": "execute_result"
    }
   ],
   "source": [
    "# melakukan pengecekan apakah ada pemesanan yang jumlah malam menginap = 0\n",
    "df[(df['stays_in_weekend_nights'] == 0) & (df['stays_in_week_nights'] == 0)]"
   ]
  },
  {
   "cell_type": "markdown",
   "metadata": {},
   "source": [
    "Banyak pemesanan yang tidak jumlah malam menginap = 0. Hal itu mustahil, maka dilakukan penghapusan pada baris tersebut."
   ]
  },
  {
   "cell_type": "code",
   "execution_count": 17,
   "metadata": {},
   "outputs": [],
   "source": [
    "# melakukan penghapusan baris dari kondisi yang mustahil\n",
    "df = df.drop(df[(df['stays_in_weekend_nights'] == 0) & (df['stays_in_week_nights'] == 0)].index)"
   ]
  },
  {
   "cell_type": "markdown",
   "metadata": {},
   "source": [
    "# Analisis"
   ]
  },
  {
   "cell_type": "markdown",
   "metadata": {},
   "source": [
    "### **is_canceled**"
   ]
  },
  {
   "cell_type": "markdown",
   "metadata": {},
   "source": [
    "**Berapa banyak booking yang dicancel?**"
   ]
  },
  {
   "cell_type": "code",
   "execution_count": 23,
   "metadata": {},
   "outputs": [
    {
     "data": {
      "text/plain": [
       "<function matplotlib.pyplot.show(close=None, block=None)>"
      ]
     },
     "execution_count": 23,
     "metadata": {},
     "output_type": "execute_result"
    },
    {
     "data": {
      "image/png": "[encoded data removed]",
      "text/plain": [
       "<Figure size 432x288 with 1 Axes>"
      ]
     },
     "metadata": {
      "needs_background": "light"
     },
     "output_type": "display_data"
    }
   ],
   "source": [
    "# membuat grafik yang menampilkan jumlah pengamatan dalam setiap kategori dari variabel dalam bentuk bar chart. \n",
    "sns.countplot(x=\"is_canceled\", data=df)\n",
    "plt.show"
   ]
  },
  {
   "cell_type": "code",
   "execution_count": 24,
   "metadata": {},
   "outputs": [
    {
     "name": "stdout",
     "output_type": "stream",
     "text": [
      "Jumlah customer yang tidak cancel: 62631\n",
      "Jumlah customer yang cancel: 23982\n"
     ]
    }
   ],
   "source": [
    "# menghitung jumlah customer yang melakukan cancel dan tidak\n",
    "jumlah=df['is_canceled'].value_counts()\n",
    "print(f'Jumlah customer yang tidak cancel: {jumlah[0]}')\n",
    "print(f'Jumlah customer yang cancel: {jumlah[1]}')"
   ]
  },
  {
   "cell_type": "markdown",
   "metadata": {},
   "source": [
    "Jumlah dari pesanan yang tidak dibatalkan lebih banyak dibandingkan pesanan yang dibatalkan. Namun bar chart menunjukkan ada sekitar 24.005 pesanan yang dibatalkan. Itu bukan suatu angka yang sedikit"
   ]
  },
  {
   "cell_type": "code",
   "execution_count": 25,
   "metadata": {},
   "outputs": [
    {
     "name": "stdout",
     "output_type": "stream",
     "text": [
      "Persentase pembatalan booking: 27.69%\n",
      "Persentase booking tidak dibatalkan: 72.31%\n"
     ]
    }
   ],
   "source": [
    "# menghitung persentase pembatalan booking\n",
    "print(f'Persentase pembatalan booking: {round(len(df[df[\"is_canceled\"]==1])*100/len(df),2)}%')\n",
    "print(f'Persentase booking tidak dibatalkan: {round(len(df[df[\"is_canceled\"]==0])*100/len(df),2)}%')"
   ]
  },
  {
   "cell_type": "markdown",
   "metadata": {},
   "source": [
    "Persentase pembatalan booking sebesar 27.86%. Meskipun angka terlihat kecil dalam persentase namun pembatalan ini memiliki dampak yang buruk pada hotel dan dapat menyebabkan penurunan pendapatan."
   ]
  },
  {
   "cell_type": "markdown",
   "metadata": {},
   "source": [
    "### **hotel type**"
   ]
  },
  {
   "cell_type": "markdown",
   "metadata": {},
   "source": [
    "**Berapa jumlah pesanan yang dibatalkan dari setiap tipe hotel?**"
   ]
  },
  {
   "cell_type": "code",
   "execution_count": 26,
   "metadata": {},
   "outputs": [
    {
     "data": {
      "text/plain": [
       "<function matplotlib.pyplot.show(close=None, block=None)>"
      ]
     },
     "execution_count": 26,
     "metadata": {},
     "output_type": "execute_result"
    },
    {
     "data": {
      "image/png": "[encoded data removed]",
      "text/plain": [
       "<Figure size 432x288 with 1 Axes>"
      ]
     },
     "metadata": {
      "needs_background": "light"
     },
     "output_type": "display_data"
    }
   ],
   "source": [
    "# menampilkan grafik bar chart tipe hotel\n",
    "sns.countplot(x=\"hotel\", hue='is_canceled', data=df,palette=['#FFCC99','#D2691E'])\n",
    "plt.show"
   ]
  },
  {
   "cell_type": "markdown",
   "metadata": {},
   "source": [
    "Customer lebih banyak yang berminat memilih City Hotel dibandingkan resort hotel. Begitupun tingkat pembatalan pesanan pada City Hotel lebih tinggi dibanding resort hotel. "
   ]
  },
  {
   "cell_type": "code",
   "execution_count": 27,
   "metadata": {},
   "outputs": [
    {
     "name": "stdout",
     "output_type": "stream",
     "text": [
      "Jumlah Pesanan dibatalkan City Hotel: 16020\n",
      "Jumlah Pesanan dibatalkan Resort Hotel: 7962\n",
      "\n",
      "Persentase cancel City Hotel: 30.21%\n",
      "Persentase cancel Resort Hotel: 23.71%\n"
     ]
    }
   ],
   "source": [
    "# menghitung jumlah pesanan pada masing-masing tipe hotel\n",
    "jumlah_resort=len(df[df['hotel']=='Resort Hotel'])\n",
    "jumlah_city=len(df[df['hotel']=='City Hotel'])\n",
    "\n",
    "# menghitung persentase pembatalan pada masing-masing hotel\n",
    "cancel_city = len(df[(df['hotel']=='City Hotel')&(df['is_canceled']==1)])*100/jumlah_city\n",
    "cancel_resort = len(df[(df['hotel']=='Resort Hotel')&(df['is_canceled']==1)])*100/jumlah_resort\n",
    "\n",
    "# mencetak jumlah pesanan yang dibatalkan setiap tipe hotel\n",
    "print(f\"Jumlah Pesanan dibatalkan City Hotel: {len(df[(df['hotel']=='City Hotel')&(df['is_canceled']==1)])}\")\n",
    "print(f\"Jumlah Pesanan dibatalkan Resort Hotel: {len(df[(df['hotel']=='Resort Hotel')&(df['is_canceled']==1)])}\")\n",
    "print()\n",
    "# mencetak persentase pembatalan\n",
    "print(f'Persentase cancel City Hotel: {round(cancel_city,2)}%' )\n",
    "print(f'Persentase cancel Resort Hotel: {round(cancel_resort,2)}%')"
   ]
  },
  {
   "cell_type": "markdown",
   "metadata": {},
   "source": [
    "Persentase pesanan yang dibatalakan pada City hotel sebesar 30.1% atau sebanyak 16.033 pesanan. Sisanya tidak melakukan pembatalan. Sementara itu, persentase pesanan yang dibatalkan pada resort hotel sebesar 23.49% atau sebanyak 7972 pesanan dan sisanya tidak melakukan pembatalan. Dengan demikian, berdasarkan data ini, City Hotel memiliki lebih banyak pembatalan pesanan dalam jumlah dan persentase pembatalan yang lebih tinggi dibandingkan dengan Resort Hotel. Hal ini mungkin mencerminkan perbedaan dalam strategi bisnis, target pasar, ataupun harga kamar pada masing-masing tipe hotel."
   ]
  },
  {
   "cell_type": "markdown",
   "metadata": {},
   "source": [
    "### **Lead Time**"
   ]
  },
  {
   "cell_type": "markdown",
   "metadata": {},
   "source": [
    "**Apakah lead time berpengaruh terhadap pembatalan booking?**"
   ]
  },
  {
   "cell_type": "code",
   "execution_count": 19,
   "metadata": {},
   "outputs": [
    {
     "name": "stdout",
     "output_type": "stream",
     "text": [
      "Korelasi: 0.22443823193330517\n",
      "Karena p value: 0.0 < alpha (0.05), maka kita menolak H0.\n",
      "Ada korelasi yang signifikan antara lead time dan pembatalan booking.\n"
     ]
    }
   ],
   "source": [
    "# mencari korelasi. Menggunakan korelasi spearman karena 'is_canceled' merupakan data nominal\n",
    "corr_r, p_value = stats.spearmanr(df['is_canceled'], df['lead_time'])\n",
    "\n",
    "alpha=0.05\n",
    "\n",
    "# pengecekan p value\n",
    "if p_value < alpha:\n",
    "    print(f'Korelasi: {corr_r}')\n",
    "    print(f'Karena p value: {p_value} < alpha ({alpha}), maka kita menolak H0.')\n",
    "    print(\"Ada korelasi yang signifikan antara lead time dan pembatalan booking.\")\n",
    "else:\n",
    "    print(f'Korelasi: {corr_r}')\n",
    "    print(f'Karena p value: {p_value} > alpha ({alpha}), maka kita gagal untuk menolak H0.')\n",
    "    print(\"Tidak cukup bukti untuk menyatakan adanya korelasi antara lead time dan pembatalan booking.\")"
   ]
  },
  {
   "cell_type": "markdown",
   "metadata": {},
   "source": [
    "lead time memiliki perngaruh terhadap pembatalan booking, dengan korelasi sebesar 0.22. Apabila lead time nya semakin lama, maka dapat menyebabkan tingginya pembatalan booking."
   ]
  },
  {
   "cell_type": "code",
   "execution_count": 20,
   "metadata": {},
   "outputs": [],
   "source": [
    "# membuat kategori baru\n",
    "def categorize_lead_time(days):\n",
    "    if days >= 180:\n",
    "        return 'more than 6 months'\n",
    "    elif (days >= 90) & (days < 180):\n",
    "        return '3 - 6 month'\n",
    "    elif (days >= 30) & (days < 90):\n",
    "        return '1 - 3 month'\n",
    "    else:\n",
    "        return 'less than 1 month'\n",
    "\n",
    "# Terapkan fungsi ke kolom 'lead_time' dan simpan hasilnya dalam kolom baru 'lead_time_category'\n",
    "df['lead_time_category'] = df['lead_time'].apply(lambda x: categorize_lead_time(x))"
   ]
  },
  {
   "cell_type": "code",
   "execution_count": 21,
   "metadata": {},
   "outputs": [
    {
     "data": {
      "image/png": "[encoded data removed]",
      "text/plain": [
       "<Figure size 720x504 with 1 Axes>"
      ]
     },
     "metadata": {
      "needs_background": "light"
     },
     "output_type": "display_data"
    }
   ],
   "source": [
    "custom_palette = sns.color_palette(['moccasin', 'peru'])\n",
    "sns.set_palette(custom_palette)\n",
    "\n",
    "# Buat bar chart\n",
    "plt.figure(figsize=(10, 7))\n",
    "ax = sns.countplot(x='lead_time_category', hue='is_canceled', data=df)\n",
    "\n",
    "# Tambahkan label jumlah di atas setiap bar\n",
    "for p in ax.patches:\n",
    "    ax.annotate(f'{p.get_height()}', (p.get_x() + p.get_width() / 2., p.get_height()),\n",
    "                ha='center', va='center', xytext=(0, 10), textcoords='offset points')\n",
    "\n",
    "# Tampilkan plot\n",
    "plt.show()\n"
   ]
  },
  {
   "cell_type": "code",
   "execution_count": 22,
   "metadata": {},
   "outputs": [
    {
     "data": {
      "text/html": [
       "<div>\n",
       "<style scoped>\n",
       "    .dataframe tbody tr th:only-of-type {\n",
       "        vertical-align: middle;\n",
       "    }\n",
       "\n",
       "    .dataframe tbody tr th {\n",
       "        vertical-align: top;\n",
       "    }\n",
       "\n",
       "    .dataframe thead th {\n",
       "        text-align: right;\n",
       "    }\n",
       "</style>\n",
       "<table border=\"1\" class=\"dataframe\">\n",
       "  <thead>\n",
       "    <tr style=\"text-align: right;\">\n",
       "      <th></th>\n",
       "      <th>%Cancel</th>\n",
       "    </tr>\n",
       "  </thead>\n",
       "  <tbody>\n",
       "    <tr>\n",
       "      <th>less than 1 month</th>\n",
       "      <td>16.37</td>\n",
       "    </tr>\n",
       "    <tr>\n",
       "      <th>1 - 3 month</th>\n",
       "      <td>32.20</td>\n",
       "    </tr>\n",
       "    <tr>\n",
       "      <th>3 - 6 month</th>\n",
       "      <td>34.94</td>\n",
       "    </tr>\n",
       "    <tr>\n",
       "      <th>more than 6 months</th>\n",
       "      <td>39.77</td>\n",
       "    </tr>\n",
       "  </tbody>\n",
       "</table>\n",
       "</div>"
      ],
      "text/plain": [
       "                    %Cancel\n",
       "less than 1 month     16.37\n",
       "1 - 3 month           32.20\n",
       "3 - 6 month           34.94\n",
       "more than 6 months    39.77"
      ]
     },
     "execution_count": 22,
     "metadata": {},
     "output_type": "execute_result"
    }
   ],
   "source": [
    "# menghitung jumlah lead time sesuai kategory\n",
    "category_counts = df['lead_time_category'].value_counts()\n",
    "\n",
    "# membuat dataframe baru\n",
    "cancel_lead_time=pd.DataFrame()\n",
    "\n",
    "# melakukan looping dengan melakukan perhitungan persentase cancel pada masing-masing kategori\n",
    "for category in category_counts.index:\n",
    "    subset= df[df['lead_time_category']==category]\n",
    "    cancel=round((subset['is_canceled'].sum()*100)/len(subset),2)\n",
    "    cancel_lead_time.at[category,'%Cancel'] = cancel\n",
    "\n",
    "# mengurutkan data berdasarkan %Cancel yang lebih kecil\n",
    "cancel_lead_time.sort_values(by='%Cancel')"
   ]
  },
  {
   "cell_type": "markdown",
   "metadata": {},
   "source": [
    "Semakin lama waktu pemesanan dengan tanggal check-in, maka memiliki kecendrungan untuk melakukan pembatalan pemesanan. Pesanan yang memiliki lead time diatas 6 bulan, sebesar 39.77% melakukan pembatalan. Sementara itu, hanya 16.37% pesanan dibatalkan dari seluruh pesanan yang memiliki lead time kurang dari 1 bulan. "
   ]
  },
  {
   "cell_type": "code",
   "execution_count": 23,
   "metadata": {},
   "outputs": [
    {
     "name": "stdout",
     "output_type": "stream",
     "text": [
      "Rata-rata lead time yang dicancel: 106 hari\n",
      "Median lead time yang dicancel: 80 hari\n",
      "Modus lead time yang dicancel: 0 hari\n"
     ]
    }
   ],
   "source": [
    "lead_time_cancel = df['lead_time'][df['is_canceled'] == 1] \n",
    "mean = lead_time_cancel.mean()\n",
    "median = lead_time_cancel.median()\n",
    "mode = lead_time_cancel.mode()[0]\n",
    "\n",
    "print(f\"Rata-rata lead time yang dicancel: {round(mean)} hari\")\n",
    "print(f\"Median lead time yang dicancel: {round(median)} hari\")\n",
    "print(f\"Modus lead time yang dicancel: {round(mode)} hari\")"
   ]
  },
  {
   "cell_type": "markdown",
   "metadata": {},
   "source": [
    "Rata-rata lead time pesanan yang dicancel adalah 106 hari atau di atas 3 bulan, dengan median 80 hari, serta modus 0 hari. Modus 0 hari karena jumlah pesanan dengan lead time 0 hari sangat lah banyak dan yang melakukan pembatalan juga banyak. Namun kemungkinan melakukan pembatalannya lebih kecil dibandingkan yang memiliki lead time di atas 80 hari."
   ]
  },
  {
   "cell_type": "code",
   "execution_count": 24,
   "metadata": {},
   "outputs": [
    {
     "data": {
      "image/png": "[encoded data removed]",
      "text/plain": [
       "<Figure size 720x504 with 1 Axes>"
      ]
     },
     "metadata": {
      "needs_background": "light"
     },
     "output_type": "display_data"
    }
   ],
   "source": [
    "import matplotlib.pyplot as plt\n",
    "import pandas as pd\n",
    "\n",
    "# Data dari tabel\n",
    "data = {\n",
    "    'Category': ['Less than 1 month', '1 - 3 months', '3 - 6 months', 'More than 6 months'],\n",
    "    '%Cancel': [16.37, 32.20, 34.94, 39.77],\n",
    "    '%No Cancel': [83.63, 67.8, 65.06, 60.23]\n",
    "}\n",
    "\n",
    "# Buat DataFrame\n",
    "df = pd.DataFrame(data)\n",
    "\n",
    "# Buat bar chart\n",
    "plt.figure(figsize=(10, 7))\n",
    "\n",
    "bar_width = 0.4\n",
    "bar_positions_cancel = range(len(df['Category']))\n",
    "bar_positions_no_cancel = [pos + bar_width for pos in bar_positions_cancel]\n",
    "\n",
    "plt.bar(bar_positions_cancel, df['%Cancel'], color='peru', width=bar_width, label='%Cancel')\n",
    "plt.bar(bar_positions_no_cancel, df['%No Cancel'], color='moccasin', width=bar_width, label='%No Cancel')\n",
    "\n",
    "# Tambahkan label persentase di atas setiap bar\n",
    "for pos, value in zip(bar_positions_cancel, df['%Cancel']):\n",
    "    plt.text(pos , value, f'{value:.2f}%', ha='center', va='bottom')\n",
    "\n",
    "for pos, value in zip(bar_positions_no_cancel, df['%No Cancel']):\n",
    "    plt.text(pos , value, f'{value:.2f}%', ha='center', va='bottom')\n",
    "\n",
    "# Atur label dan judul\n",
    "plt.xlabel('Lead Time Category')\n",
    "plt.ylabel('Percentage')\n",
    "plt.xticks(bar_positions_cancel, df['Category'])\n",
    "plt.title('Cancellation Percentage by Lead Time Category')\n",
    "plt.legend()\n",
    "\n",
    "# Tampilkan plot\n",
    "plt.show()\n"
   ]
  },
  {
   "cell_type": "markdown",
   "metadata": {},
   "source": [
    "### **arrival_date_year**"
   ]
  },
  {
   "cell_type": "code",
   "execution_count": null,
   "metadata": {},
   "outputs": [],
   "source": [
    "# membuat bar chart\n",
    "plt.figure(figsize = (15,7))\n",
    "sns.countplot(x='arrival_date_year',hue='is_canceled',data=df)\n",
    "plt.show"
   ]
  },
  {
   "cell_type": "markdown",
   "metadata": {},
   "source": [
    "Jumlah pesanan pada tahun 2016 jelas memiliki jumlah yang banyak karena data yang terkumpul dari July 2015 hingga Agustus 2017."
   ]
  },
  {
   "cell_type": "code",
   "execution_count": null,
   "metadata": {},
   "outputs": [],
   "source": [
    "#  melakukan group by pada tahun\n",
    "grouped = df.groupby('arrival_date_year')\n",
    "\n",
    "# menghitung total booking untuk setiap tahun\n",
    "total_bookings_per_year = grouped['is_canceled'].count()\n",
    "\n",
    "# menghitung jumlah pesanan batal untuk setiap tahun\n",
    "canceled_bookings_per_year = grouped['is_canceled'].sum()\n",
    "\n",
    "# menghitung persentase booking\n",
    "percentage_canceled_per_year = (canceled_bookings_per_year / total_bookings_per_year) * 100\n",
    "percentage_canceled_per_year \n",
    "\n"
   ]
  },
  {
   "cell_type": "markdown",
   "metadata": {},
   "source": [
    "Persentase booking pada 2017 cenderung lebih besar dibandingkan 2 tahun sebelumnya. Padahal data tahun 2017 hanya sampai bulan agustus. Hal ini dapat ditelusuri lebih lanjut apa yang dilakukan hotel pada tahun 2017, apakah kekurangan dalam marketing atau lainnya. Strategi pada tahun 2017 harus dirubah"
   ]
  },
  {
   "cell_type": "markdown",
   "metadata": {},
   "source": [
    "### **Previous Cancellation**"
   ]
  },
  {
   "cell_type": "code",
   "execution_count": 47,
   "metadata": {},
   "outputs": [
    {
     "data": {
      "text/plain": [
       "<function matplotlib.pyplot.show(close=None, block=None)>"
      ]
     },
     "execution_count": 47,
     "metadata": {},
     "output_type": "execute_result"
    },
    {
     "data": {
      "image/png": "[encoded data removed]",
      "text/plain": [
       "<Figure size 432x288 with 1 Axes>"
      ]
     },
     "metadata": {
      "needs_background": "light"
     },
     "output_type": "display_data"
    }
   ],
   "source": [
    "# membuat bar chart \n",
    "sns.countplot(x='previous_cancellations',hue='is_canceled',data=df)\n",
    "plt.show"
   ]
  },
  {
   "cell_type": "markdown",
   "metadata": {},
   "source": [
    "Pada grafik di atas hanya terlihat jelas saat previous_cancellations = 0 karena range data nya jauh berbeda dengan yang lain, sehingga tidak terlihat dengan jelas."
   ]
  },
  {
   "cell_type": "code",
   "execution_count": null,
   "metadata": {},
   "outputs": [],
   "source": [
    "# menghitung jumlah pesanan yang dibatalkan \n",
    "cancellation=df['previous_cancellations'][df['is_canceled']==1].value_counts()\n",
    "nocancellation=df['previous_cancellations'][df['is_canceled']==0].value_counts()\n",
    "\n",
    "\n",
    "# menghitung jumlah pesanan yang dibatalkan pada masing-masing value di kolom previous cancellation\n",
    "count_cancellation=df['previous_cancellations'].value_counts()\n",
    "count_nocancellation=df['previous_cancellations'].value_counts()\n",
    "\n",
    "# menghitung persentase pembatalan pada masing-masing value di kolom previous cancellation\n",
    "a=(round(cancellation*100/count_cancellation,2))\n",
    "b=(round(nocancellation*100/count_nocancellation,2))\n",
    "\n",
    "\n"
   ]
  },
  {
   "cell_type": "markdown",
   "metadata": {},
   "source": [
    "Semakin banyak melakukan cancel pada pemesanan sebelumnya, memiliki kecendrungan untuk melakukan cancel lagi pada pemesanan berikutnya. Dapat dilihat seseorang yang telah melakukan pembatalan pesanan sebanyak > 14 kali sebelumnya, sangat berpotensi untuk melakukan pembatalan lagi."
   ]
  },
  {
   "cell_type": "code",
   "execution_count": null,
   "metadata": {},
   "outputs": [],
   "source": [
    "import matplotlib.pyplot as plt\n",
    "import pandas as pd\n",
    "\n",
    "# Data dari tabel\n",
    "data = {\n",
    "    'Category': ['Less than 1 month', '1 - 3 months', '3 - 6 months', 'More than 6 months'],\n",
    "    '%Cancel': [16.37, 32.20, 34.94, 39.77],\n",
    "    '%No Cancel': [83.63, 67.8, 65.06, 60.23]\n",
    "}\n",
    "\n",
    "# Buat DataFrame\n",
    "df = pd.DataFrame(data)\n",
    "\n",
    "# Buat bar chart\n",
    "plt.figure(figsize=(10, 7))\n",
    "\n",
    "bar_width = 0.4\n",
    "bar_positions_cancel = range(len(df['Category']))\n",
    "bar_positions_no_cancel = [pos + bar_width for pos in bar_positions_cancel]\n",
    "\n",
    "plt.bar(bar_positions_cancel, df['%Cancel'], color='peru', width=bar_width, label='%Cancel')\n",
    "plt.bar(bar_positions_no_cancel, df['%No Cancel'], color='moccasin', width=bar_width, label='%No Cancel')\n",
    "\n",
    "# Tambahkan label persentase di atas setiap bar\n",
    "for pos, value in zip(bar_positions_cancel, df['%Cancel']):\n",
    "    plt.text(pos , value, f'{value:.2f}%', ha='center', va='bottom')\n",
    "\n",
    "for pos, value in zip(bar_positions_no_cancel, df['%No Cancel']):\n",
    "    plt.text(pos , value, f'{value:.2f}%', ha='center', va='bottom')\n",
    "\n",
    "# Atur label dan judul\n",
    "plt.xlabel('Lead Time Category')\n",
    "plt.ylabel('Percentage')\n",
    "plt.xticks(bar_positions_cancel, df['Category'])\n",
    "plt.title('Cancellation Percentage by Lead Time Category')\n",
    "plt.legend()\n",
    "\n",
    "# Tampilkan plot\n",
    "plt.show()\n"
   ]
  },
  {
   "cell_type": "markdown",
   "metadata": {},
   "source": [
    "### **is_repeated_guest**"
   ]
  },
  {
   "cell_type": "code",
   "execution_count": 55,
   "metadata": {},
   "outputs": [
    {
     "data": {
      "text/plain": [
       "<function matplotlib.pyplot.show(close=None, block=None)>"
      ]
     },
     "execution_count": 55,
     "metadata": {},
     "output_type": "execute_result"
    },
    {
     "data": {
      "image/png": "[encoded data removed]",
      "text/plain": [
       "<Figure size 432x288 with 1 Axes>"
      ]
     },
     "metadata": {
      "needs_background": "light"
     },
     "output_type": "display_data"
    }
   ],
   "source": [
    "# membuat bar chart\n",
    "sns.countplot(x='is_repeated_guest',hue='is_canceled',data=df)\n",
    "plt.show"
   ]
  },
  {
   "cell_type": "code",
   "execution_count": 46,
   "metadata": {},
   "outputs": [
    {
     "data": {
      "text/plain": [
       "([<matplotlib.patches.Wedge at 0x135849490f0>,\n",
       "  <matplotlib.patches.Wedge at 0x13584949588>],\n",
       " [Text(-0.12520973630242546, -1.0928506402684115, 'not repeated_guest'),\n",
       "  Text(0.1252098258324785, 1.0928506300107992, 'repeated_guest')])"
      ]
     },
     "execution_count": 46,
     "metadata": {},
     "output_type": "execute_result"
    },
    {
     "data": {
      "image/png": "[encoded data removed]",
      "text/plain": [
       "<Figure size 576x576 with 1 Axes>"
      ]
     },
     "metadata": {},
     "output_type": "display_data"
    }
   ],
   "source": [
    "# Menghitung jumlah pada setiap kategori\n",
    "count_by_category = df['is_repeated_guest'].value_counts()\n",
    "\n",
    "# Membuat pie chart\n",
    "custom_palette = sns.color_palette(['moccasin', 'peru'])\n",
    "\n",
    "\n",
    "plt.figure(figsize=(8, 8))\n",
    "plt.pie(count_by_category, labels=['not repeated_guest','repeated_guest'], startangle=90, colors=sns.set_palette(custom_palette))\n"
   ]
  },
  {
   "cell_type": "code",
   "execution_count": 58,
   "metadata": {},
   "outputs": [
    {
     "data": {
      "text/plain": [
       "is_repeated_guest  is_canceled\n",
       "0                  0              59745\n",
       "                   1              23723\n",
       "1                  0               2886\n",
       "                   1                259\n",
       "dtype: int64"
      ]
     },
     "execution_count": 58,
     "metadata": {},
     "output_type": "execute_result"
    }
   ],
   "source": [
    "# mengelompokkan data berdasarkan 'is_repeated_guest' dan 'is_canceled'\n",
    "grouped = df.groupby(['is_repeated_guest', 'is_canceled'])\n",
    "\n",
    "# menghitung tiap nilai berdasarkan groupby di atas\n",
    "count_per_group = grouped.size()\n",
    "count_per_group"
   ]
  },
  {
   "cell_type": "code",
   "execution_count": 54,
   "metadata": {},
   "outputs": [
    {
     "data": {
      "image/png": "[encoded data removed]",
      "text/plain": [
       "<Figure size 720x504 with 1 Axes>"
      ]
     },
     "metadata": {
      "needs_background": "light"
     },
     "output_type": "display_data"
    }
   ],
   "source": [
    "# Menghitung proporsi\n",
    "plt.figure(figsize = (10,7))\n",
    "prop_df = df.groupby(['is_repeated_guest', 'is_canceled']).size().reset_index(name='count')\n",
    "prop_df['percentage'] = prop_df.groupby('is_repeated_guest')['count'].transform(lambda x: x / x.sum() * 100)\n",
    "\n",
    "custom_palette = sns.color_palette(['moccasin', 'peru'])\n",
    "sns.set_palette(custom_palette)\n",
    "\n",
    "# Membuat bar chart\n",
    "ax = sns.barplot(x='is_repeated_guest', y='percentage', hue='is_canceled', data=prop_df)\n",
    "\n",
    "# Menambahkan label persentase di atas setiap bar\n",
    "for p in ax.patches:\n",
    "    height = p.get_height()\n",
    "    ax.annotate(f'{height:.2f}%', (p.get_x() + p.get_width() / 2., height),\n",
    "                ha='center', va='center', xytext=(0, 10), textcoords='offset points', fontsize=8)\n",
    "plt.ylabel('Persentase')\n",
    "plt.xlabel('is_repeated_guest')\n",
    "plt.show()"
   ]
  },
  {
   "cell_type": "code",
   "execution_count": null,
   "metadata": {},
   "outputs": [],
   "source": [
    "# menghitung total pesanan yang dibatalkan dengan berfokus pada kolom 'is_repeated_guest'\n",
    "cancellation=df['is_repeated_guest'][df['is_canceled']==1].value_counts()\n",
    "\n",
    "# menghitung total pesanan yang dibatalkan berdasarkan value dalam 'is_repeated_guest'\n",
    "count_cancellation=df['is_repeated_guest'].value_counts()\n",
    "\n",
    "# menghitung persentase pembatalan pada masing-masing value\n",
    "round(cancellation*100/count_cancellation,2)"
   ]
  },
  {
   "cell_type": "markdown",
   "metadata": {},
   "source": [
    "Persentase pembatalan pesanan pada orang yang pernah datang sebelumnya lebih kecil yaitu sebesar 8.24% dibandingkan orang yang belum pernah datang. Hal ini dapat terjadi salah satunya karena orang yang pernah datang sebelumnya telah mengetahui fasilitas dan merasa puas pada pelayanan."
   ]
  },
  {
   "cell_type": "markdown",
   "metadata": {},
   "source": [
    "### **required_car_parking_spaces**"
   ]
  },
  {
   "cell_type": "code",
   "execution_count": 65,
   "metadata": {},
   "outputs": [
    {
     "data": {
      "text/plain": [
       "<function matplotlib.pyplot.show(close=None, block=None)>"
      ]
     },
     "execution_count": 65,
     "metadata": {},
     "output_type": "execute_result"
    },
    {
     "data": {
      "image/png": "[encoded data removed]",
      "text/plain": [
       "<Figure size 432x288 with 1 Axes>"
      ]
     },
     "metadata": {
      "needs_background": "light"
     },
     "output_type": "display_data"
    }
   ],
   "source": [
    "# membuat bar chart\n",
    "sns.countplot(x='required_car_parking_spaces',hue='is_canceled',data=df)\n",
    "plt.show"
   ]
  },
  {
   "cell_type": "code",
   "execution_count": 68,
   "metadata": {},
   "outputs": [
    {
     "data": {
      "text/plain": [
       "0    79323\n",
       "1     7257\n",
       "2       28\n",
       "3        3\n",
       "8        2\n",
       "Name: required_car_parking_spaces, dtype: int64"
      ]
     },
     "execution_count": 68,
     "metadata": {},
     "output_type": "execute_result"
    }
   ],
   "source": [
    "# menghitung jumlah pesanan yang tidak dibatalkan\n",
    "no_cancellation=df['required_car_parking_spaces'][df['is_canceled']==0].value_counts()\n",
    "\n",
    "\n",
    "# menghitung jumlah pesanan yang tidak dibatalkan pada masing-masing value di kolom 'required_car_parking_spaces'\n",
    "count_nocancellation=df['required_car_parking_spaces'].value_counts()\n",
    "\n",
    "# menghitung persentase pesanan yang tidak dibatalkan\n",
    "round(no_cancellation*100/count_nocancellation,2)\n",
    "count_nocancellation"
   ]
  },
  {
   "cell_type": "markdown",
   "metadata": {},
   "source": [
    "Dari grafik dan data diatas dapat dilihat bahwa semakin banyak memerlukan tempat parkir, maka customer memiliki kecendrungan untuk tidak melakukan pembatalan. Pada kasus data ini customer yang melakukan pembatalan hanya ketika dia tidak memiliki  "
   ]
  },
  {
   "cell_type": "code",
   "execution_count": null,
   "metadata": {},
   "outputs": [],
   "source": [
    "# mengelompokkan data berdasarkan 'is_repeated_guest' dan 'is_canceled'\n",
    "grouped = df.groupby(['required_car_parking_spaces', 'is_canceled'])\n",
    "\n",
    "# menghitung tiap nilai berdasarkan groupby di atas\n",
    "count_per_group = grouped.size()\n",
    "count_per_group"
   ]
  },
  {
   "cell_type": "code",
   "execution_count": null,
   "metadata": {},
   "outputs": [],
   "source": [
    "labels = ['Not Canceled', 'Canceled']\n",
    "sizes = [55341, 23982]\n",
    "\n",
    "# Membuat pie chart\n",
    "plt.pie(sizes, labels=labels, autopct='%1.1f%%', startangle=90, colors=['moccasin', 'peru'])\n",
    "# plt.title('Cancellation Status for Repeated Guests')\n",
    "plt.axis('equal')  # Memastikan pie chart berbentuk lingkaran\n",
    "plt.show()"
   ]
  },
  {
   "cell_type": "markdown",
   "metadata": {},
   "source": [
    "### **total_of_special_requests**"
   ]
  },
  {
   "cell_type": "code",
   "execution_count": 48,
   "metadata": {},
   "outputs": [
    {
     "data": {
      "text/plain": [
       "<function matplotlib.pyplot.show(close=None, block=None)>"
      ]
     },
     "execution_count": 48,
     "metadata": {},
     "output_type": "execute_result"
    },
    {
     "data": {
      "image/png": "[encoded data removed]",
      "text/plain": [
       "<Figure size 432x288 with 1 Axes>"
      ]
     },
     "metadata": {
      "needs_background": "light"
     },
     "output_type": "display_data"
    }
   ],
   "source": [
    "# membuat bar chart\n",
    "sns.countplot(x='total_of_special_requests',hue='is_canceled',data=df)\n",
    "plt.show"
   ]
  },
  {
   "cell_type": "code",
   "execution_count": 55,
   "metadata": {},
   "outputs": [
    {
     "data": {
      "text/html": [
       "<div>\n",
       "<style scoped>\n",
       "    .dataframe tbody tr th:only-of-type {\n",
       "        vertical-align: middle;\n",
       "    }\n",
       "\n",
       "    .dataframe tbody tr th {\n",
       "        vertical-align: top;\n",
       "    }\n",
       "\n",
       "    .dataframe thead th {\n",
       "        text-align: right;\n",
       "    }\n",
       "</style>\n",
       "<table border=\"1\" class=\"dataframe\">\n",
       "  <thead>\n",
       "    <tr style=\"text-align: right;\">\n",
       "      <th></th>\n",
       "      <th>Total Special Requests</th>\n",
       "      <th>Percentage Cancellation</th>\n",
       "      <th>Percentage No Cancellation</th>\n",
       "    </tr>\n",
       "  </thead>\n",
       "  <tbody>\n",
       "    <tr>\n",
       "      <th>0</th>\n",
       "      <td>0</td>\n",
       "      <td>33.50</td>\n",
       "      <td>66.50</td>\n",
       "    </tr>\n",
       "    <tr>\n",
       "      <th>1</th>\n",
       "      <td>1</td>\n",
       "      <td>22.54</td>\n",
       "      <td>77.46</td>\n",
       "    </tr>\n",
       "    <tr>\n",
       "      <th>2</th>\n",
       "      <td>2</td>\n",
       "      <td>21.42</td>\n",
       "      <td>78.58</td>\n",
       "    </tr>\n",
       "    <tr>\n",
       "      <th>3</th>\n",
       "      <td>3</td>\n",
       "      <td>17.17</td>\n",
       "      <td>82.83</td>\n",
       "    </tr>\n",
       "    <tr>\n",
       "      <th>4</th>\n",
       "      <td>4</td>\n",
       "      <td>10.62</td>\n",
       "      <td>89.38</td>\n",
       "    </tr>\n",
       "    <tr>\n",
       "      <th>5</th>\n",
       "      <td>5</td>\n",
       "      <td>5.56</td>\n",
       "      <td>94.44</td>\n",
       "    </tr>\n",
       "  </tbody>\n",
       "</table>\n",
       "</div>"
      ],
      "text/plain": [
       "   Total Special Requests  Percentage Cancellation  Percentage No Cancellation\n",
       "0                       0                    33.50                       66.50\n",
       "1                       1                    22.54                       77.46\n",
       "2                       2                    21.42                       78.58\n",
       "3                       3                    17.17                       82.83\n",
       "4                       4                    10.62                       89.38\n",
       "5                       5                     5.56                       94.44"
      ]
     },
     "execution_count": 55,
     "metadata": {},
     "output_type": "execute_result"
    }
   ],
   "source": [
    "# menghitung jumlah pembatalan pada pesanan\n",
    "import numpy as np\n",
    "no_cancellation=df['total_of_special_requests'][df['is_canceled']==1].value_counts()\n",
    "cancellation=df['total_of_special_requests'][df['is_canceled']==0].value_counts()\n",
    "\n",
    "# menghitung jumlah pesanan pada masing-masing value di kolom 'total_of_special_requests'\n",
    "count_nocancellation=df['total_of_special_requests'].value_counts()\n",
    "count_cancellation=df['total_of_special_requests'].value_counts()\n",
    "\n",
    "# menghitung persentase pembatalan pada masing-masing nilai\n",
    "a=round(no_cancellation*100/count_nocancellation,2)\n",
    "b=round(cancellation*100/count_cancellation,2)\n",
    "\n",
    "result_df = pd.DataFrame({\n",
    "    'Total Special Requests': count_nocancellation.index,\n",
    "    'Percentage Cancellation': a,\n",
    "    'Percentage No Cancellation': b\n",
    "})\n",
    "\n",
    "result_df"
   ]
  },
  {
   "cell_type": "code",
   "execution_count": 59,
   "metadata": {},
   "outputs": [
    {
     "data": {
      "image/png": "[encoded data removed]",
      "text/plain": [
       "<Figure size 720x504 with 1 Axes>"
      ]
     },
     "metadata": {
      "needs_background": "light"
     },
     "output_type": "display_data"
    }
   ],
   "source": [
    "# Menghitung proporsi\n",
    "plt.figure(figsize = (10,7))\n",
    "prop_df = df.groupby(['total_of_special_requests', 'is_canceled']).size().reset_index(name='count')\n",
    "prop_df['percentage'] = prop_df.groupby('total_of_special_requests')['count'].transform(lambda x: x / x.sum() * 100)\n",
    "\n",
    "custom_palette = sns.color_palette(['moccasin', 'peru'])\n",
    "sns.set_palette(custom_palette)\n",
    "\n",
    "# Membuat bar chart\n",
    "ax = sns.barplot(x='total_of_special_requests', y='percentage', hue='is_canceled', data=prop_df)\n",
    "\n",
    "# Menambahkan label persentase di atas setiap bar\n",
    "for p in ax.patches:\n",
    "    height = p.get_height()\n",
    "    ax.annotate(f'{height:.2f}%', (p.get_x() + p.get_width() / 2., height),\n",
    "                ha='center', va='center', xytext=(0, 10), textcoords='offset points', fontsize=8)\n",
    "plt.ylabel('Persentase')\n",
    "plt.xlabel('total_of_special_requests')\n",
    "plt.show()"
   ]
  },
  {
   "cell_type": "markdown",
   "metadata": {},
   "source": [
    "Dapat dilihat dari grafik dan data di atas apabila semakin banyak tamu spesial, maka customer memiliki kecendrungan untuk tidak melakukan pembatalan. Seperti yang ditunjukkan pada data di atas, semakin banyak tamu spesial maka persentase melakukan pembatalan semakin kecil."
   ]
  },
  {
   "cell_type": "markdown",
   "metadata": {},
   "source": [
    "### **reservation_status_date**"
   ]
  },
  {
   "cell_type": "code",
   "execution_count": null,
   "metadata": {},
   "outputs": [],
   "source": [
    "# melakukan ekstrak bulan\n",
    "df['month'] = df['reservation_status_date'].dt.month\n",
    "\n",
    "# membuat bar chart\n",
    "plt.figure(figsize = (17,8))\n",
    "sns.countplot(x = 'month',hue = 'is_canceled', data = df)\n",
    "plt.title(\"Reservation Status per month\", fontsize = 20)\n",
    "plt.legend([\"not cancel\", \"cancel\"])"
   ]
  },
  {
   "cell_type": "markdown",
   "metadata": {},
   "source": [
    "Dari bar chart di atas dapat dilihat bahwa pesanan tertinggi ada di bulan agustus dengan pembatalan yang rendah dan pembatalan yang tinggi ada dibulan january. Bulan agustus memiliki jumlah pesanan terbanyak dapat disebabkan karena di portugal sedang musim panas, sehingga banyak wisatawan yang berlibur."
   ]
  },
  {
   "cell_type": "markdown",
   "metadata": {},
   "source": [
    "### **ADR**"
   ]
  },
  {
   "cell_type": "markdown",
   "metadata": {},
   "source": [
    "**Berapa rata-rata adr tiap bulan pada masing-masing tipe hotel**"
   ]
  },
  {
   "cell_type": "code",
   "execution_count": 29,
   "metadata": {},
   "outputs": [
    {
     "data": {
      "image/png": "[encoded data removed]",
      "text/plain": [
       "<Figure size 864x576 with 1 Axes>"
      ]
     },
     "metadata": {
      "needs_background": "light"
     },
     "output_type": "display_data"
    }
   ],
   "source": [
    "# buat variabel dengan melakukan pengurutan pada bulan\n",
    "ordered_months = [\"January\", \"February\", \"March\", \"April\", \"May\", \"June\", \n",
    "          \"July\", \"August\", \"September\", \"October\", \"November\", \"December\"]\n",
    "df[\"arrival_date_month\"] = pd.Categorical(df[\"arrival_date_month\"], categories=ordered_months, ordered=True)\n",
    "\n",
    "# membuat line chart\n",
    "plt.figure(figsize=(12, 8))\n",
    "sns.lineplot(x = \"arrival_date_month\", y=\"adr\", hue=\"hotel\", data=df)\n",
    "plt.title(\"ADR over the year\", fontsize=16)\n",
    "plt.xlabel(\"Month\", fontsize=16)\n",
    "plt.ylabel(\"Price [EUR]\", fontsize=16)\n",
    "plt.show()"
   ]
  },
  {
   "cell_type": "markdown",
   "metadata": {},
   "source": [
    "Hal ini jelas menunjukkan bahwa harga di hotel Resort jauh lebih tinggi selama musim panas (juni-agustus). \n",
    "Harga city hotel lebih bervariasi dan paling mahal selama musim semi (maret-mei) dan musim gugur (september). "
   ]
  },
  {
   "cell_type": "markdown",
   "metadata": {},
   "source": [
    "**Berapa rata-rata adr pada pesanan yang dibatalkan tiap bulan**"
   ]
  },
  {
   "cell_type": "code",
   "execution_count": 28,
   "metadata": {},
   "outputs": [
    {
     "ename": "KeyError",
     "evalue": "'month'",
     "output_type": "error",
     "traceback": [
      "\u001b[1;31m---------------------------------------------------------------------------\u001b[0m",
      "\u001b[1;31mKeyError\u001b[0m                                  Traceback (most recent call last)",
      "\u001b[1;32m<ipython-input-28-fa5726d215f9>\u001b[0m in \u001b[0;36m<module>\u001b[1;34m\u001b[0m\n\u001b[0;32m      1\u001b[0m \u001b[1;31m# mencari rata-rata adr berdasarkan bulan dan ketika pesanan dibatalkan\u001b[0m\u001b[1;33m\u001b[0m\u001b[1;33m\u001b[0m\u001b[1;33m\u001b[0m\u001b[0m\n\u001b[1;32m----> 2\u001b[1;33m \u001b[0mrata\u001b[0m\u001b[1;33m=\u001b[0m \u001b[0mdf\u001b[0m\u001b[1;33m[\u001b[0m\u001b[0mdf\u001b[0m\u001b[1;33m[\u001b[0m\u001b[1;34m'is_canceled'\u001b[0m\u001b[1;33m]\u001b[0m\u001b[1;33m==\u001b[0m\u001b[1;36m1\u001b[0m\u001b[1;33m]\u001b[0m\u001b[1;33m.\u001b[0m\u001b[0mgroupby\u001b[0m\u001b[1;33m(\u001b[0m\u001b[1;34m'month'\u001b[0m\u001b[1;33m)\u001b[0m\u001b[1;33m[\u001b[0m\u001b[1;33m[\u001b[0m\u001b[1;34m'adr'\u001b[0m\u001b[1;33m]\u001b[0m\u001b[1;33m]\u001b[0m\u001b[1;33m.\u001b[0m\u001b[0mmean\u001b[0m\u001b[1;33m(\u001b[0m\u001b[1;33m)\u001b[0m\u001b[1;33m.\u001b[0m\u001b[0mreset_index\u001b[0m\u001b[1;33m(\u001b[0m\u001b[1;33m)\u001b[0m\u001b[1;33m\u001b[0m\u001b[1;33m\u001b[0m\u001b[0m\n\u001b[0m\u001b[0;32m      3\u001b[0m \u001b[0mrata\u001b[0m\u001b[1;33m\u001b[0m\u001b[1;33m\u001b[0m\u001b[0m\n",
      "\u001b[1;32mc:\\Users\\Shintya\\.conda\\envs\\python36\\lib\\site-packages\\pandas\\core\\frame.py\u001b[0m in \u001b[0;36mgroupby\u001b[1;34m(self, by, axis, level, as_index, sort, group_keys, squeeze, observed, dropna)\u001b[0m\n\u001b[0;32m   6523\u001b[0m             \u001b[0msqueeze\u001b[0m\u001b[1;33m=\u001b[0m\u001b[0msqueeze\u001b[0m\u001b[1;33m,\u001b[0m\u001b[1;33m\u001b[0m\u001b[1;33m\u001b[0m\u001b[0m\n\u001b[0;32m   6524\u001b[0m             \u001b[0mobserved\u001b[0m\u001b[1;33m=\u001b[0m\u001b[0mobserved\u001b[0m\u001b[1;33m,\u001b[0m\u001b[1;33m\u001b[0m\u001b[1;33m\u001b[0m\u001b[0m\n\u001b[1;32m-> 6525\u001b[1;33m             \u001b[0mdropna\u001b[0m\u001b[1;33m=\u001b[0m\u001b[0mdropna\u001b[0m\u001b[1;33m,\u001b[0m\u001b[1;33m\u001b[0m\u001b[1;33m\u001b[0m\u001b[0m\n\u001b[0m\u001b[0;32m   6526\u001b[0m         )\n\u001b[0;32m   6527\u001b[0m \u001b[1;33m\u001b[0m\u001b[0m\n",
      "\u001b[1;32mc:\\Users\\Shintya\\.conda\\envs\\python36\\lib\\site-packages\\pandas\\core\\groupby\\groupby.py\u001b[0m in \u001b[0;36m__init__\u001b[1;34m(self, obj, keys, axis, level, grouper, exclusions, selection, as_index, sort, group_keys, squeeze, observed, mutated, dropna)\u001b[0m\n\u001b[0;32m    531\u001b[0m                 \u001b[0mobserved\u001b[0m\u001b[1;33m=\u001b[0m\u001b[0mobserved\u001b[0m\u001b[1;33m,\u001b[0m\u001b[1;33m\u001b[0m\u001b[1;33m\u001b[0m\u001b[0m\n\u001b[0;32m    532\u001b[0m                 \u001b[0mmutated\u001b[0m\u001b[1;33m=\u001b[0m\u001b[0mself\u001b[0m\u001b[1;33m.\u001b[0m\u001b[0mmutated\u001b[0m\u001b[1;33m,\u001b[0m\u001b[1;33m\u001b[0m\u001b[1;33m\u001b[0m\u001b[0m\n\u001b[1;32m--> 533\u001b[1;33m                 \u001b[0mdropna\u001b[0m\u001b[1;33m=\u001b[0m\u001b[0mself\u001b[0m\u001b[1;33m.\u001b[0m\u001b[0mdropna\u001b[0m\u001b[1;33m,\u001b[0m\u001b[1;33m\u001b[0m\u001b[1;33m\u001b[0m\u001b[0m\n\u001b[0m\u001b[0;32m    534\u001b[0m             )\n\u001b[0;32m    535\u001b[0m \u001b[1;33m\u001b[0m\u001b[0m\n",
      "\u001b[1;32mc:\\Users\\Shintya\\.conda\\envs\\python36\\lib\\site-packages\\pandas\\core\\groupby\\grouper.py\u001b[0m in \u001b[0;36mget_grouper\u001b[1;34m(obj, key, axis, level, sort, observed, mutated, validate, dropna)\u001b[0m\n\u001b[0;32m    784\u001b[0m                 \u001b[0min_axis\u001b[0m\u001b[1;33m,\u001b[0m \u001b[0mname\u001b[0m\u001b[1;33m,\u001b[0m \u001b[0mlevel\u001b[0m\u001b[1;33m,\u001b[0m \u001b[0mgpr\u001b[0m \u001b[1;33m=\u001b[0m \u001b[1;32mFalse\u001b[0m\u001b[1;33m,\u001b[0m \u001b[1;32mNone\u001b[0m\u001b[1;33m,\u001b[0m \u001b[0mgpr\u001b[0m\u001b[1;33m,\u001b[0m \u001b[1;32mNone\u001b[0m\u001b[1;33m\u001b[0m\u001b[1;33m\u001b[0m\u001b[0m\n\u001b[0;32m    785\u001b[0m             \u001b[1;32melse\u001b[0m\u001b[1;33m:\u001b[0m\u001b[1;33m\u001b[0m\u001b[1;33m\u001b[0m\u001b[0m\n\u001b[1;32m--> 786\u001b[1;33m                 \u001b[1;32mraise\u001b[0m \u001b[0mKeyError\u001b[0m\u001b[1;33m(\u001b[0m\u001b[0mgpr\u001b[0m\u001b[1;33m)\u001b[0m\u001b[1;33m\u001b[0m\u001b[1;33m\u001b[0m\u001b[0m\n\u001b[0m\u001b[0;32m    787\u001b[0m         \u001b[1;32melif\u001b[0m \u001b[0misinstance\u001b[0m\u001b[1;33m(\u001b[0m\u001b[0mgpr\u001b[0m\u001b[1;33m,\u001b[0m \u001b[0mGrouper\u001b[0m\u001b[1;33m)\u001b[0m \u001b[1;32mand\u001b[0m \u001b[0mgpr\u001b[0m\u001b[1;33m.\u001b[0m\u001b[0mkey\u001b[0m \u001b[1;32mis\u001b[0m \u001b[1;32mnot\u001b[0m \u001b[1;32mNone\u001b[0m\u001b[1;33m:\u001b[0m\u001b[1;33m\u001b[0m\u001b[1;33m\u001b[0m\u001b[0m\n\u001b[0;32m    788\u001b[0m             \u001b[1;31m# Add key to exclusions\u001b[0m\u001b[1;33m\u001b[0m\u001b[1;33m\u001b[0m\u001b[1;33m\u001b[0m\u001b[0m\n",
      "\u001b[1;31mKeyError\u001b[0m: 'month'"
     ]
    }
   ],
   "source": [
    "# mencari rata-rata adr berdasarkan bulan dan ketika pesanan dibatalkan\n",
    "rata= df[df['is_canceled']==1].groupby('month')[['adr']].mean().reset_index()\n",
    "rata"
   ]
  },
  {
   "cell_type": "code",
   "execution_count": 90,
   "metadata": {},
   "outputs": [
    {
     "ename": "NameError",
     "evalue": "name 'rata' is not defined",
     "output_type": "error",
     "traceback": [
      "\u001b[1;31m---------------------------------------------------------------------------\u001b[0m",
      "\u001b[1;31mNameError\u001b[0m                                 Traceback (most recent call last)",
      "\u001b[1;32m<ipython-input-90-fb228f47185a>\u001b[0m in \u001b[0;36m<module>\u001b[1;34m\u001b[0m\n\u001b[0;32m      1\u001b[0m \u001b[1;31m# melakukan plot bar chart\u001b[0m\u001b[1;33m\u001b[0m\u001b[1;33m\u001b[0m\u001b[1;33m\u001b[0m\u001b[0m\n\u001b[0;32m      2\u001b[0m \u001b[0mplt\u001b[0m\u001b[1;33m.\u001b[0m\u001b[0mfigure\u001b[0m\u001b[1;33m(\u001b[0m\u001b[0mfigsize\u001b[0m \u001b[1;33m=\u001b[0m \u001b[1;33m(\u001b[0m\u001b[1;36m10\u001b[0m\u001b[1;33m,\u001b[0m\u001b[1;36m7\u001b[0m\u001b[1;33m)\u001b[0m\u001b[1;33m)\u001b[0m\u001b[1;33m\u001b[0m\u001b[1;33m\u001b[0m\u001b[0m\n\u001b[1;32m----> 3\u001b[1;33m \u001b[0msns\u001b[0m\u001b[1;33m.\u001b[0m\u001b[0mbarplot\u001b[0m\u001b[1;33m(\u001b[0m\u001b[0mdata\u001b[0m \u001b[1;33m=\u001b[0m  \u001b[0mrata\u001b[0m\u001b[1;33m,\u001b[0m\u001b[0mx\u001b[0m \u001b[1;33m=\u001b[0m \u001b[1;34m'month'\u001b[0m\u001b[1;33m,\u001b[0m \u001b[0my\u001b[0m \u001b[1;33m=\u001b[0m \u001b[1;34m'adr'\u001b[0m\u001b[1;33m)\u001b[0m\u001b[1;33m\u001b[0m\u001b[1;33m\u001b[0m\u001b[0m\n\u001b[0m\u001b[0;32m      4\u001b[0m \u001b[0mplt\u001b[0m\u001b[1;33m.\u001b[0m\u001b[0mtitle\u001b[0m\u001b[1;33m(\u001b[0m\u001b[1;34m\"ADR per month\"\u001b[0m\u001b[1;33m,\u001b[0m \u001b[0mfontsize\u001b[0m \u001b[1;33m=\u001b[0m \u001b[1;36m20\u001b[0m\u001b[1;33m)\u001b[0m\u001b[1;33m\u001b[0m\u001b[1;33m\u001b[0m\u001b[0m\n",
      "\u001b[1;31mNameError\u001b[0m: name 'rata' is not defined"
     ]
    },
    {
     "data": {
      "text/plain": [
       "<Figure size 720x504 with 0 Axes>"
      ]
     },
     "metadata": {},
     "output_type": "display_data"
    }
   ],
   "source": [
    "# melakukan plot bar chart\n",
    "plt.figure(figsize = (10,7))\n",
    "sns.barplot(data =  rata,x = 'month', y = 'adr')\n",
    "plt.title(\"ADR per month\", fontsize = 20)"
   ]
  },
  {
   "cell_type": "markdown",
   "metadata": {},
   "source": [
    "Dari grafik di atas dapat dilihat bahwa rata-rata ADR pada pesanan yang dibatalkan tertinggi pada bulan juni-agustus dan Oktober - January relatif rendah. Hal ini dapat disebabkan karena bulan juni-agustus harga kamar pada resort hotel naik."
   ]
  },
  {
   "cell_type": "markdown",
   "metadata": {},
   "source": [
    "**Apakah rata-rata adr pada pesanan yang dibatalkan berdasarkan bulan pada city hotel dan resort hotel berbeda?**"
   ]
  },
  {
   "cell_type": "code",
   "execution_count": null,
   "metadata": {},
   "outputs": [],
   "source": [
    "# membuat variabel dengan filter city hotel dan pesanan di cancel lalu dijumlahkan berdasarkan bulan\n",
    "city = df[(df['hotel']=='City Hotel')&(df['is_canceled']==1)][['arrival_date_month','adr']].groupby(['arrival_date_month']).sum()\n",
    "\n",
    "# membuat variabel dengan filter resort hotel dan pesanan di cancel lalu dijumlahkan berdasarkan bulan\n",
    "resort = df[(df['hotel']=='Resort Hotel')&(df['is_canceled']==1)][['arrival_date_month','adr']].groupby(['arrival_date_month']).sum()\n",
    "\n",
    "\n",
    "# H0: Rata-rata adr setiap bulan pada pesanan yang dibatalkan pada city Hotel dan Resort Hotel sama\n",
    "# H1: Rata-rata adr setiap bulan pada pesanan yang dibatalkan pada city Hotel dan Resort Hotel berbeda\n",
    "\n",
    "# pengujian hipotesis deng uji t\n",
    "t_stat, p_value = stats.ttest_ind(city, resort)\n",
    "\n",
    "alpha = 0.05 \n",
    "if p_value < alpha:\n",
    "    print(f'Karena p value: {p_value} < alpha ({alpha})')\n",
    "    print(\"Tolak H0: Rata-rata adr setiap bulan pada pesanan yang dibatalkan pada city Hotel dan Resort Hotel berbeda.\")\n",
    "else:\n",
    "    print(f'Karena p value: {p_value} > alpha ({alpha})')\n",
    "    print(\"Terima H0: Tidak cukup bukti untuk menyatakan bahwa rata-rata adr setiap bulan pada pesanan yang dibatalkan pada city Hotel dan Resort Hotel berbeda.\")"
   ]
  },
  {
   "cell_type": "markdown",
   "metadata": {},
   "source": [
    "Karena p value < 0.05 maka tolak H0 dan membuktikan bahwa Rata-rata ADR setiap bulan pada pesanan yang dibatalkan pada city Hotel dan Resort Hotel berbeda."
   ]
  },
  {
   "cell_type": "markdown",
   "metadata": {},
   "source": [
    "### **Booking Changes**"
   ]
  },
  {
   "cell_type": "code",
   "execution_count": 60,
   "metadata": {},
   "outputs": [
    {
     "data": {
      "text/plain": [
       "<function matplotlib.pyplot.show(close=None, block=None)>"
      ]
     },
     "execution_count": 60,
     "metadata": {},
     "output_type": "execute_result"
    },
    {
     "data": {
      "image/png": "[encoded data removed]",
      "text/plain": [
       "<Figure size 432x288 with 1 Axes>"
      ]
     },
     "metadata": {
      "needs_background": "light"
     },
     "output_type": "display_data"
    }
   ],
   "source": [
    "# membuat bar chart\n",
    "sns.countplot(x='booking_changes',hue='is_canceled',data=df)\n",
    "plt.show"
   ]
  },
  {
   "cell_type": "markdown",
   "metadata": {},
   "source": [
    "Semakin banyak melakukan perubahan pada pesanan maka memiliki kecendrungan untuk tidak membatalkan pesanan, namun pada graf di atas hanya terlihat sampai 4x dalam perubahan pesanan."
   ]
  },
  {
   "cell_type": "code",
   "execution_count": 61,
   "metadata": {},
   "outputs": [
    {
     "name": "stdout",
     "output_type": "stream",
     "text": [
      "                                  count\n",
      "booking_changes is_canceled            \n",
      "0               0             69.642328\n",
      "                1             30.357672\n",
      "1               0             86.038961\n",
      "                1             13.961039\n",
      "2               0             79.716845\n",
      "                1             20.283155\n",
      "3               0             84.731935\n",
      "                1             15.268065\n",
      "4               0             81.686047\n",
      "                1             18.313953\n",
      "5               0             81.651376\n",
      "                1             18.348624\n",
      "6               0             69.642857\n",
      "                1             30.357143\n",
      "7               0             89.285714\n",
      "                1             10.714286\n",
      "8               0             71.428571\n",
      "                1             28.571429\n",
      "9               0             87.500000\n",
      "                1             12.500000\n",
      "10              0             83.333333\n",
      "                1             16.666667\n",
      "11              0            100.000000\n",
      "12              0            100.000000\n",
      "13              0            100.000000\n",
      "14              0             66.666667\n",
      "                1             33.333333\n",
      "15              0            100.000000\n",
      "16              0             50.000000\n",
      "                1             50.000000\n",
      "17              0            100.000000\n",
      "18              0            100.000000\n"
     ]
    }
   ],
   "source": [
    "# membuat variabel baru dengan menghitung jumlah pesanan berdasarkan 'booking_changes','is_canceled'\n",
    "total_count=df.groupby(['booking_changes','is_canceled']).size().to_frame(name='count')\n",
    "\n",
    "# menghitung persentase pada masing-masing nilai\n",
    "total_perct=total_count.groupby(level=0).apply(lambda x:100*x/float(x.sum()))\n",
    "print(total_perct)"
   ]
  },
  {
   "cell_type": "markdown",
   "metadata": {},
   "source": [
    "Dari data diatas dapat dilihat bahwa semakin banyak melakukan perubahan pada pesanan maka memiliki kecendrungan untuk tidak membatalkan pesanan dan persentase pesanan dibatalkan semakin kecil."
   ]
  },
  {
   "cell_type": "markdown",
   "metadata": {},
   "source": [
    "### **Country**"
   ]
  },
  {
   "cell_type": "markdown",
   "metadata": {},
   "source": [
    "**Dari mana asal pengunjung terbanyak yang melakukan pembatalan pesanan?**"
   ]
  },
  {
   "cell_type": "code",
   "execution_count": 21,
   "metadata": {},
   "outputs": [
    {
     "data": {
      "image/png": "[encoded data removed]",
      "text/plain": [
       "<Figure size 1440x576 with 1 Axes>"
      ]
     },
     "metadata": {},
     "output_type": "display_data"
    }
   ],
   "source": [
    "# memfilter baris yang hanya melakukan pembatalan pesanan\n",
    "cancelled_reservations = df[df['is_canceled'] == 1]\n",
    "\n",
    "# Menghitung country dengan jumlah pesanan yang dibatalkan 5 teratas\n",
    "top_5_countries = (cancelled_reservations['country'].value_counts()[:5])\n",
    "\n",
    "plt.figure(figsize = (20,8))\n",
    "plt.title(\"Top 5 country hotels with cancelled reservations\")\n",
    "\n",
    "# membuat pie chart\n",
    "plt.pie(top_5_countries,labels = top_5_countries.index, autopct = '%.2f%%')\n",
    "plt.show()"
   ]
  },
  {
   "cell_type": "markdown",
   "metadata": {},
   "source": [
    "Portugal menjadi negara yang paling banyak melakukan pembatalan, Hal ini karena lokasi dari hotel ini berada di portugal. Sehingga Mayoritas pengunjung portugal dan kemungkinan untuk melakukan pembatalannya juga tinggi."
   ]
  },
  {
   "cell_type": "markdown",
   "metadata": {},
   "source": [
    "### **Market Segment**"
   ]
  },
  {
   "cell_type": "markdown",
   "metadata": {},
   "source": [
    "**Apakah mayoritas pengunjung datang dari offline travel agent untuk membuat pesanan?**"
   ]
  },
  {
   "cell_type": "code",
   "execution_count": null,
   "metadata": {},
   "outputs": [],
   "source": [
    "# membuat bar chart\n",
    "plt.figure(figsize = (20,8))\n",
    "sns.countplot(x='market_segment',hue='is_canceled',data=df)\n",
    "plt.show"
   ]
  },
  {
   "cell_type": "markdown",
   "metadata": {},
   "source": [
    "Mayoritas Market segment terbanyak berasal dari Online Travel Agent. Oleh karena itu anggaran marketing bisa lebih diprioritaskan untuk pemasaran di bidang online. "
   ]
  },
  {
   "cell_type": "code",
   "execution_count": null,
   "metadata": {},
   "outputs": [],
   "source": [
    "# menghitung 5 market segment yang melakukan cancel terbanyak\n",
    "market_cancel = (cancelled_reservations['market_segment'].value_counts()[:5])\n",
    "plt.figure(figsize = (20,8))\n",
    "plt.title(\"Percentage of Market Segment with cancelled reservations\")\n",
    "\n",
    "# membuat pie chart\n",
    "plt.pie(market_cancel,labels = market_cancel.index, autopct = '%.2f%%')\n",
    "plt.show()"
   ]
  },
  {
   "cell_type": "markdown",
   "metadata": {},
   "source": [
    "Disamping banyaknya customer yang berasal dari online TA, sebanyak 76% dari pesanan yang dibatalkan berasal dari segmen pasar Online TA, sementara posisi kedua ditempati oleh Offline TA/TO. Oleh karena itu, diperlukan peninjauan ulang terhadap strategi pemasaran online."
   ]
  },
  {
   "cell_type": "markdown",
   "metadata": {},
   "source": [
    "### **Deposit Type**"
   ]
  },
  {
   "cell_type": "code",
   "execution_count": 18,
   "metadata": {},
   "outputs": [
    {
     "data": {
      "text/plain": [
       "<function matplotlib.pyplot.show(close=None, block=None)>"
      ]
     },
     "execution_count": 18,
     "metadata": {},
     "output_type": "execute_result"
    },
    {
     "data": {
      "image/png": "[encoded data removed]",
      "text/plain": [
       "<Figure size 1440x576 with 1 Axes>"
      ]
     },
     "metadata": {
      "needs_background": "light"
     },
     "output_type": "display_data"
    }
   ],
   "source": [
    "# membuat bar chart\n",
    "plt.figure(figsize = (20,8))\n",
    "sns.countplot(x='deposit_type',hue='is_canceled',data=df)\n",
    "plt.show"
   ]
  },
  {
   "cell_type": "code",
   "execution_count": 22,
   "metadata": {},
   "outputs": [
    {
     "data": {
      "image/png": "[encoded data removed]",
      "text/plain": [
       "<Figure size 1440x576 with 1 Axes>"
      ]
     },
     "metadata": {},
     "output_type": "display_data"
    }
   ],
   "source": [
    "# menghitung pesanan yang dibatalkan berdasarkan deposit type\n",
    "cancel_d = (cancelled_reservations['deposit_type'].value_counts())\n",
    "\n",
    "# membuat pie chart\n",
    "plt.figure(figsize = (20,8))\n",
    "plt.title(\"Deposit Type with cancelled reservations\")\n",
    "plt.pie(cancel_d,labels = cancel_d.index, autopct = '%.2f%%')\n",
    "plt.show()"
   ]
  },
  {
   "cell_type": "code",
   "execution_count": 20,
   "metadata": {},
   "outputs": [
    {
     "data": {
      "text/html": [
       "<div>\n",
       "<style scoped>\n",
       "    .dataframe tbody tr th:only-of-type {\n",
       "        vertical-align: middle;\n",
       "    }\n",
       "\n",
       "    .dataframe tbody tr th {\n",
       "        vertical-align: top;\n",
       "    }\n",
       "\n",
       "    .dataframe thead th {\n",
       "        text-align: right;\n",
       "    }\n",
       "</style>\n",
       "<table border=\"1\" class=\"dataframe\">\n",
       "  <thead>\n",
       "    <tr style=\"text-align: right;\">\n",
       "      <th></th>\n",
       "      <th>hotel</th>\n",
       "      <th>is_canceled</th>\n",
       "      <th>lead_time</th>\n",
       "      <th>arrival_date_year</th>\n",
       "      <th>arrival_date_month</th>\n",
       "      <th>arrival_date_week_number</th>\n",
       "      <th>arrival_date_day_of_month</th>\n",
       "      <th>stays_in_weekend_nights</th>\n",
       "      <th>stays_in_week_nights</th>\n",
       "      <th>adults</th>\n",
       "      <th>...</th>\n",
       "      <th>assigned_room_type</th>\n",
       "      <th>booking_changes</th>\n",
       "      <th>deposit_type</th>\n",
       "      <th>days_in_waiting_list</th>\n",
       "      <th>customer_type</th>\n",
       "      <th>adr</th>\n",
       "      <th>required_car_parking_spaces</th>\n",
       "      <th>total_of_special_requests</th>\n",
       "      <th>reservation_status</th>\n",
       "      <th>reservation_status_date</th>\n",
       "    </tr>\n",
       "  </thead>\n",
       "  <tbody>\n",
       "    <tr>\n",
       "      <th>2</th>\n",
       "      <td>Resort Hotel</td>\n",
       "      <td>0</td>\n",
       "      <td>7</td>\n",
       "      <td>2015</td>\n",
       "      <td>July</td>\n",
       "      <td>27</td>\n",
       "      <td>1</td>\n",
       "      <td>0</td>\n",
       "      <td>1</td>\n",
       "      <td>1</td>\n",
       "      <td>...</td>\n",
       "      <td>C</td>\n",
       "      <td>0</td>\n",
       "      <td>No Deposit</td>\n",
       "      <td>0</td>\n",
       "      <td>Transient</td>\n",
       "      <td>75.00</td>\n",
       "      <td>0</td>\n",
       "      <td>0</td>\n",
       "      <td>Check-Out</td>\n",
       "      <td>2015-07-02</td>\n",
       "    </tr>\n",
       "    <tr>\n",
       "      <th>3</th>\n",
       "      <td>Resort Hotel</td>\n",
       "      <td>0</td>\n",
       "      <td>13</td>\n",
       "      <td>2015</td>\n",
       "      <td>July</td>\n",
       "      <td>27</td>\n",
       "      <td>1</td>\n",
       "      <td>0</td>\n",
       "      <td>1</td>\n",
       "      <td>1</td>\n",
       "      <td>...</td>\n",
       "      <td>A</td>\n",
       "      <td>0</td>\n",
       "      <td>No Deposit</td>\n",
       "      <td>0</td>\n",
       "      <td>Transient</td>\n",
       "      <td>75.00</td>\n",
       "      <td>0</td>\n",
       "      <td>0</td>\n",
       "      <td>Check-Out</td>\n",
       "      <td>2015-07-02</td>\n",
       "    </tr>\n",
       "    <tr>\n",
       "      <th>4</th>\n",
       "      <td>Resort Hotel</td>\n",
       "      <td>0</td>\n",
       "      <td>14</td>\n",
       "      <td>2015</td>\n",
       "      <td>July</td>\n",
       "      <td>27</td>\n",
       "      <td>1</td>\n",
       "      <td>0</td>\n",
       "      <td>2</td>\n",
       "      <td>2</td>\n",
       "      <td>...</td>\n",
       "      <td>A</td>\n",
       "      <td>0</td>\n",
       "      <td>No Deposit</td>\n",
       "      <td>0</td>\n",
       "      <td>Transient</td>\n",
       "      <td>98.00</td>\n",
       "      <td>0</td>\n",
       "      <td>1</td>\n",
       "      <td>Check-Out</td>\n",
       "      <td>2015-07-03</td>\n",
       "    </tr>\n",
       "    <tr>\n",
       "      <th>6</th>\n",
       "      <td>Resort Hotel</td>\n",
       "      <td>0</td>\n",
       "      <td>0</td>\n",
       "      <td>2015</td>\n",
       "      <td>July</td>\n",
       "      <td>27</td>\n",
       "      <td>1</td>\n",
       "      <td>0</td>\n",
       "      <td>2</td>\n",
       "      <td>2</td>\n",
       "      <td>...</td>\n",
       "      <td>C</td>\n",
       "      <td>0</td>\n",
       "      <td>No Deposit</td>\n",
       "      <td>0</td>\n",
       "      <td>Transient</td>\n",
       "      <td>107.00</td>\n",
       "      <td>0</td>\n",
       "      <td>0</td>\n",
       "      <td>Check-Out</td>\n",
       "      <td>2015-07-03</td>\n",
       "    </tr>\n",
       "    <tr>\n",
       "      <th>7</th>\n",
       "      <td>Resort Hotel</td>\n",
       "      <td>0</td>\n",
       "      <td>9</td>\n",
       "      <td>2015</td>\n",
       "      <td>July</td>\n",
       "      <td>27</td>\n",
       "      <td>1</td>\n",
       "      <td>0</td>\n",
       "      <td>2</td>\n",
       "      <td>2</td>\n",
       "      <td>...</td>\n",
       "      <td>C</td>\n",
       "      <td>0</td>\n",
       "      <td>No Deposit</td>\n",
       "      <td>0</td>\n",
       "      <td>Transient</td>\n",
       "      <td>103.00</td>\n",
       "      <td>0</td>\n",
       "      <td>1</td>\n",
       "      <td>Check-Out</td>\n",
       "      <td>2015-07-03</td>\n",
       "    </tr>\n",
       "    <tr>\n",
       "      <th>...</th>\n",
       "      <td>...</td>\n",
       "      <td>...</td>\n",
       "      <td>...</td>\n",
       "      <td>...</td>\n",
       "      <td>...</td>\n",
       "      <td>...</td>\n",
       "      <td>...</td>\n",
       "      <td>...</td>\n",
       "      <td>...</td>\n",
       "      <td>...</td>\n",
       "      <td>...</td>\n",
       "      <td>...</td>\n",
       "      <td>...</td>\n",
       "      <td>...</td>\n",
       "      <td>...</td>\n",
       "      <td>...</td>\n",
       "      <td>...</td>\n",
       "      <td>...</td>\n",
       "      <td>...</td>\n",
       "      <td>...</td>\n",
       "      <td>...</td>\n",
       "    </tr>\n",
       "    <tr>\n",
       "      <th>119385</th>\n",
       "      <td>City Hotel</td>\n",
       "      <td>0</td>\n",
       "      <td>23</td>\n",
       "      <td>2017</td>\n",
       "      <td>August</td>\n",
       "      <td>35</td>\n",
       "      <td>30</td>\n",
       "      <td>2</td>\n",
       "      <td>5</td>\n",
       "      <td>2</td>\n",
       "      <td>...</td>\n",
       "      <td>A</td>\n",
       "      <td>0</td>\n",
       "      <td>No Deposit</td>\n",
       "      <td>0</td>\n",
       "      <td>Transient</td>\n",
       "      <td>96.14</td>\n",
       "      <td>0</td>\n",
       "      <td>0</td>\n",
       "      <td>Check-Out</td>\n",
       "      <td>2017-09-06</td>\n",
       "    </tr>\n",
       "    <tr>\n",
       "      <th>119386</th>\n",
       "      <td>City Hotel</td>\n",
       "      <td>0</td>\n",
       "      <td>102</td>\n",
       "      <td>2017</td>\n",
       "      <td>August</td>\n",
       "      <td>35</td>\n",
       "      <td>31</td>\n",
       "      <td>2</td>\n",
       "      <td>5</td>\n",
       "      <td>3</td>\n",
       "      <td>...</td>\n",
       "      <td>E</td>\n",
       "      <td>0</td>\n",
       "      <td>No Deposit</td>\n",
       "      <td>0</td>\n",
       "      <td>Transient</td>\n",
       "      <td>225.43</td>\n",
       "      <td>0</td>\n",
       "      <td>2</td>\n",
       "      <td>Check-Out</td>\n",
       "      <td>2017-09-07</td>\n",
       "    </tr>\n",
       "    <tr>\n",
       "      <th>119387</th>\n",
       "      <td>City Hotel</td>\n",
       "      <td>0</td>\n",
       "      <td>34</td>\n",
       "      <td>2017</td>\n",
       "      <td>August</td>\n",
       "      <td>35</td>\n",
       "      <td>31</td>\n",
       "      <td>2</td>\n",
       "      <td>5</td>\n",
       "      <td>2</td>\n",
       "      <td>...</td>\n",
       "      <td>D</td>\n",
       "      <td>0</td>\n",
       "      <td>No Deposit</td>\n",
       "      <td>0</td>\n",
       "      <td>Transient</td>\n",
       "      <td>157.71</td>\n",
       "      <td>0</td>\n",
       "      <td>4</td>\n",
       "      <td>Check-Out</td>\n",
       "      <td>2017-09-07</td>\n",
       "    </tr>\n",
       "    <tr>\n",
       "      <th>119388</th>\n",
       "      <td>City Hotel</td>\n",
       "      <td>0</td>\n",
       "      <td>109</td>\n",
       "      <td>2017</td>\n",
       "      <td>August</td>\n",
       "      <td>35</td>\n",
       "      <td>31</td>\n",
       "      <td>2</td>\n",
       "      <td>5</td>\n",
       "      <td>2</td>\n",
       "      <td>...</td>\n",
       "      <td>A</td>\n",
       "      <td>0</td>\n",
       "      <td>No Deposit</td>\n",
       "      <td>0</td>\n",
       "      <td>Transient</td>\n",
       "      <td>104.40</td>\n",
       "      <td>0</td>\n",
       "      <td>0</td>\n",
       "      <td>Check-Out</td>\n",
       "      <td>2017-09-07</td>\n",
       "    </tr>\n",
       "    <tr>\n",
       "      <th>119389</th>\n",
       "      <td>City Hotel</td>\n",
       "      <td>0</td>\n",
       "      <td>205</td>\n",
       "      <td>2017</td>\n",
       "      <td>August</td>\n",
       "      <td>35</td>\n",
       "      <td>29</td>\n",
       "      <td>2</td>\n",
       "      <td>7</td>\n",
       "      <td>2</td>\n",
       "      <td>...</td>\n",
       "      <td>A</td>\n",
       "      <td>0</td>\n",
       "      <td>No Deposit</td>\n",
       "      <td>0</td>\n",
       "      <td>Transient</td>\n",
       "      <td>151.20</td>\n",
       "      <td>0</td>\n",
       "      <td>2</td>\n",
       "      <td>Check-Out</td>\n",
       "      <td>2017-09-07</td>\n",
       "    </tr>\n",
       "  </tbody>\n",
       "</table>\n",
       "<p>86613 rows × 30 columns</p>\n",
       "</div>"
      ],
      "text/plain": [
       "               hotel  is_canceled  lead_time  arrival_date_year  \\\n",
       "2       Resort Hotel            0          7               2015   \n",
       "3       Resort Hotel            0         13               2015   \n",
       "4       Resort Hotel            0         14               2015   \n",
       "6       Resort Hotel            0          0               2015   \n",
       "7       Resort Hotel            0          9               2015   \n",
       "...              ...          ...        ...                ...   \n",
       "119385    City Hotel            0         23               2017   \n",
       "119386    City Hotel            0        102               2017   \n",
       "119387    City Hotel            0         34               2017   \n",
       "119388    City Hotel            0        109               2017   \n",
       "119389    City Hotel            0        205               2017   \n",
       "\n",
       "       arrival_date_month  arrival_date_week_number  \\\n",
       "2                    July                        27   \n",
       "3                    July                        27   \n",
       "4                    July                        27   \n",
       "6                    July                        27   \n",
       "7                    July                        27   \n",
       "...                   ...                       ...   \n",
       "119385             August                        35   \n",
       "119386             August                        35   \n",
       "119387             August                        35   \n",
       "119388             August                        35   \n",
       "119389             August                        35   \n",
       "\n",
       "        arrival_date_day_of_month  stays_in_weekend_nights  \\\n",
       "2                               1                        0   \n",
       "3                               1                        0   \n",
       "4                               1                        0   \n",
       "6                               1                        0   \n",
       "7                               1                        0   \n",
       "...                           ...                      ...   \n",
       "119385                         30                        2   \n",
       "119386                         31                        2   \n",
       "119387                         31                        2   \n",
       "119388                         31                        2   \n",
       "119389                         29                        2   \n",
       "\n",
       "        stays_in_week_nights  adults  ...  assigned_room_type  \\\n",
       "2                          1       1  ...                   C   \n",
       "3                          1       1  ...                   A   \n",
       "4                          2       2  ...                   A   \n",
       "6                          2       2  ...                   C   \n",
       "7                          2       2  ...                   C   \n",
       "...                      ...     ...  ...                 ...   \n",
       "119385                     5       2  ...                   A   \n",
       "119386                     5       3  ...                   E   \n",
       "119387                     5       2  ...                   D   \n",
       "119388                     5       2  ...                   A   \n",
       "119389                     7       2  ...                   A   \n",
       "\n",
       "        booking_changes deposit_type days_in_waiting_list customer_type  \\\n",
       "2                     0   No Deposit                    0     Transient   \n",
       "3                     0   No Deposit                    0     Transient   \n",
       "4                     0   No Deposit                    0     Transient   \n",
       "6                     0   No Deposit                    0     Transient   \n",
       "7                     0   No Deposit                    0     Transient   \n",
       "...                 ...          ...                  ...           ...   \n",
       "119385                0   No Deposit                    0     Transient   \n",
       "119386                0   No Deposit                    0     Transient   \n",
       "119387                0   No Deposit                    0     Transient   \n",
       "119388                0   No Deposit                    0     Transient   \n",
       "119389                0   No Deposit                    0     Transient   \n",
       "\n",
       "           adr  required_car_parking_spaces  total_of_special_requests  \\\n",
       "2        75.00                            0                          0   \n",
       "3        75.00                            0                          0   \n",
       "4        98.00                            0                          1   \n",
       "6       107.00                            0                          0   \n",
       "7       103.00                            0                          1   \n",
       "...        ...                          ...                        ...   \n",
       "119385   96.14                            0                          0   \n",
       "119386  225.43                            0                          2   \n",
       "119387  157.71                            0                          4   \n",
       "119388  104.40                            0                          0   \n",
       "119389  151.20                            0                          2   \n",
       "\n",
       "        reservation_status reservation_status_date  \n",
       "2                Check-Out              2015-07-02  \n",
       "3                Check-Out              2015-07-02  \n",
       "4                Check-Out              2015-07-03  \n",
       "6                Check-Out              2015-07-03  \n",
       "7                Check-Out              2015-07-03  \n",
       "...                    ...                     ...  \n",
       "119385           Check-Out              2017-09-06  \n",
       "119386           Check-Out              2017-09-07  \n",
       "119387           Check-Out              2017-09-07  \n",
       "119388           Check-Out              2017-09-07  \n",
       "119389           Check-Out              2017-09-07  \n",
       "\n",
       "[86613 rows x 30 columns]"
      ]
     },
     "execution_count": 20,
     "metadata": {},
     "output_type": "execute_result"
    }
   ],
   "source": [
    "df['']"
   ]
  },
  {
   "cell_type": "markdown",
   "metadata": {},
   "source": [
    "95.79% dari pesanan pembatalan berasal dari pesanan yang tidak melakukan deposit, karena mereka tidak melakukan deposit sehingga apabila ingin melakukan pembatalan tidak merasa rugi. Hotel dapat membuat aturan biaya charge pembatalan atau minimal deposit untuk menghindari hal ini."
   ]
  },
  {
   "cell_type": "markdown",
   "metadata": {},
   "source": [
    "### **Customer Type**"
   ]
  },
  {
   "cell_type": "code",
   "execution_count": null,
   "metadata": {},
   "outputs": [],
   "source": [
    "# menghitung total pesanan yang dibatalkan berdasarkan customer type\n",
    "cust = (cancelled_reservations['customer_type'].value_counts())\n",
    "\n",
    "# membuat pie chart\n",
    "plt.figure(figsize = (20,8))\n",
    "plt.title(\"Customer Type with cancelled reservations\")\n",
    "plt.pie(cust,labels = cust.index, autopct = '%.2f%%',\n",
    ")\n",
    "plt.show()"
   ]
  },
  {
   "cell_type": "markdown",
   "metadata": {},
   "source": [
    "Mayoritas customer yang melakukan pembatalan adalah customer transient, sekitar 90% dari total pesanan dibatalkan oleh customer type transient. Pemasaran bisa lebih disasarkan pada transient"
   ]
  },
  {
   "cell_type": "markdown",
   "metadata": {},
   "source": [
    "### **Korelasi**"
   ]
  },
  {
   "cell_type": "code",
   "execution_count": null,
   "metadata": {},
   "outputs": [],
   "source": [
    "# mencari korelasi spearman dengan variabel 'is_canceled'\n",
    "cancel_corr = df.corr(method='spearman')[\"is_canceled\"]\n",
    "\n",
    "# korelasi di mutlakkan\n",
    "cancel_corr.abs().sort_values(ascending=False)[1:]"
   ]
  },
  {
   "cell_type": "markdown",
   "metadata": {},
   "source": [
    "dilakukan pengujian korelasi pada masing-masing variabel kepada variabel is_canceled. Didapatkan 6 variabel dengan korelasi tertinggi yaitu: lead_time, required_car_parking_spaces, adr, total_of_special_requests         \n",
    "previous_cancellations, booking_changes. Pada variabel-variabel ini sudah dianalis diatas dan memiliki keterkaitan dengan pembatalan booking.                  "
   ]
  },
  {
   "cell_type": "markdown",
   "metadata": {},
   "source": [
    "# Kesimpulan\n",
    "- Ada 6 variabel yang memiliki korelasi yang paling tinggi terhadap pembatalan booking\n",
    "1. lead time: Semakin lama lead time maka ada kecendrungan semakin besar tingkat pembatalan pesanan.\n",
    "2. required car parking spaces: customer yang semakin banyak memiliki permintaan tempat parkir, maka ada kecendrungan untuk melakukan pembatalan pesanan menurun.\n",
    "3. adr: Semakin mahal adr, maka memiliki kecendrungan untuk melakukan pembatalan pesanan.\n",
    "4. total of special request: semakin banyak customer melakukan permintaan spesial, maka semakin kecil kemungkinan customer tersebut melakukan pembatalan pesanan.\n",
    "5. previous cancellation: customer yang telah melakukan pembatalan pesanan sebelumnya, maka memungkinan untuk melakukan pembatalan pada pesanan berikutnya.\n",
    "6. booking changes: semakin banyak customer melakukan perubahan pada pesanan, maka kemungkinan untuk membatalkan pesanan semakin kecil.\n",
    "\n",
    "- Segment market terbesar adalah Online TA/TO, maka dapat difokuskan untuk melakukan pemasaran pada mereka\n",
    "- Customer Type terbanyak adalah transient, maka dalam segi pemasaran dapat difokuskan dan menarik baik transient.\n",
    "- Hotel dapat membuat aturan biaya charge pembatalan atau minimal deposit untuk menghindari pembatalan pesanan, karena pesanan dibatalkan paling banyak pada customer yang tidak melakukan deposit, atau dapat membuat tipe deposit lainnya menjadi menarik dengan menawarkan berbagai promo."
   ]
  },
  {
   "cell_type": "markdown",
   "metadata": {},
   "source": [
    "# Export CSV"
   ]
  },
  {
   "cell_type": "code",
   "execution_count": null,
   "metadata": {},
   "outputs": [],
   "source": [
    "# df.to_csv('hotel_clean.csv')"
   ]
  },
  {
   "cell_type": "code",
   "execution_count": null,
   "metadata": {},
   "outputs": [],
   "source": [
    "# menghitung persentase pembatalan booking\n",
    "print(f'Persentase pembatalan booking: {round(len(df[df[\"is_canceled\"]==1])*100/len(df),2)}%')\n",
    "print(f'Persentase booking tidak dibatalkan: {round(len(df[df[\"is_canceled\"]==0])*100/len(df),2)}%')\n",
    "\n"
   ]
  },
  {
   "cell_type": "code",
   "execution_count": null,
   "metadata": {},
   "outputs": [],
   "source": [
    "df1=df[df['lead_time']<7]\n",
    "# menghitung persentase pembatalan booking\n",
    "print(f'Persentase pembatalan booking: {round(len(df1[df1[\"is_canceled\"]==1])*100/len(df1),2)}%')\n",
    "print(f'Persentase booking tidak dibatalkan: {round(len(df1[df1[\"is_canceled\"]==0])*100/len(df1),2)}%')\n",
    "\n",
    "cancelp = (df1['is_canceled'].value_counts())\n",
    "label=['Not Cancel','Cancel']\n",
    "# membuat pie chart\n",
    "plt.pie(cancelp,labels = label, autopct = '%.2f%%',  colors=['moccasin', 'peru'])\n",
    "plt.show()"
   ]
  },
  {
   "cell_type": "code",
   "execution_count": null,
   "metadata": {},
   "outputs": [],
   "source": [
    "df1=df[df['lead_time']<10]\n",
    "# menghitung persentase pembatalan booking\n",
    "print(f'Persentase pembatalan booking: {round(len(df1[df1[\"is_canceled\"]==1])*100/len(df1),2)}%')\n",
    "print(f'Persentase booking tidak dibatalkan: {round(len(df1[df1[\"is_canceled\"]==0])*100/len(df1),2)}%')\n",
    "\n",
    "cancelp = (df1['is_canceled'].value_counts())\n",
    "label=['Not Cancel','Cancel']\n",
    "# membuat pie chart\n",
    "plt.pie(cancelp,labels = label, autopct = '%.2f%%',  colors=['moccasin', 'peru'])\n",
    "plt.show()"
   ]
  },
  {
   "cell_type": "code",
   "execution_count": null,
   "metadata": {},
   "outputs": [],
   "source": [
    "df1=df[df['lead_time']<30]\n",
    "# menghitung persentase pembatalan booking\n",
    "print(f'Persentase pembatalan booking: {round(len(df1[df1[\"is_canceled\"]==1])*100/len(df1),2)}%')\n",
    "print(f'Persentase booking tidak dibatalkan: {round(len(df1[df1[\"is_canceled\"]==0])*100/len(df1),2)}%')\n",
    "\n",
    "cancelp = (df1['is_canceled'].value_counts())\n",
    "label=['Not Cancel','Cancel']\n",
    "# membuat pie chart\n",
    "plt.pie(cancelp,labels = label, autopct = '%.2f%%')\n",
    "plt.show()"
   ]
  },
  {
   "cell_type": "code",
   "execution_count": null,
   "metadata": {},
   "outputs": [],
   "source": [
    "df1=df[df['lead_time']<100]\n",
    "# menghitung persentase pembatalan booking\n",
    "print(f'Persentase pembatalan booking: {round(len(df1[df1[\"is_canceled\"]==1])*100/len(df1),2)}%')\n",
    "print(f'Persentase booking tidak dibatalkan: {round(len(df1[df1[\"is_canceled\"]==0])*100/len(df1),2)}%')\n",
    "\n",
    "cancelp = (df1['is_canceled'].value_counts())\n",
    "label=['Not Cancel','Cancel']\n",
    "# membuat pie chart\n",
    "plt.pie(cancelp,labels = label, autopct = '%.2f%%')\n",
    "plt.show()"
   ]
  },
  {
   "cell_type": "code",
   "execution_count": null,
   "metadata": {},
   "outputs": [],
   "source": [
    "df1=df[df['lead_time']<300]\n",
    "# menghitung persentase pembatalan booking\n",
    "print(f'Persentase pembatalan booking: {round(len(df1[df1[\"is_canceled\"]==1])*100/len(df1),2)}%')\n",
    "print(f'Persentase booking tidak dibatalkan: {round(len(df1[df1[\"is_canceled\"]==0])*100/len(df1),2)}%')\n",
    "\n",
    "cancelp = (df1['is_canceled'].value_counts())\n",
    "label=['Not Cancel','Cancel']\n",
    "# membuat pie chart\n",
    "plt.pie(cancelp,labels = label, autopct = '%.2f%%')\n",
    "plt.show()"
   ]
  },
  {
   "cell_type": "code",
   "execution_count": null,
   "metadata": {},
   "outputs": [],
   "source": [
    "df1=df[df['lead_time']>300]\n",
    "# menghitung persentase pembatalan booking\n",
    "print(f'Persentase pembatalan booking: {round(len(df1[df1[\"is_canceled\"]==1])*100/len(df1),2)}%')\n",
    "print(f'Persentase booking tidak dibatalkan: {round(len(df1[df1[\"is_canceled\"]==0])*100/len(df1),2)}%')\n",
    "\n",
    "cancelp = (df1['is_canceled'].value_counts())\n",
    "label=['Not Cancel','Cancel']\n",
    "col=['green','red']\n",
    "# membuat pie chart\n",
    "plt.pie(cancelp,labels = label, autopct = '%.2f%%',colors=['moccasin', 'peru'])\n",
    "plt.show()"
   ]
  },
  {
   "cell_type": "code",
   "execution_count": null,
   "metadata": {},
   "outputs": [],
   "source": []
  }
 ],
 "metadata": {
  "kernelspec": {
   "display_name": "python36",
   "language": "python",
   "name": "python3"
  },
  "language_info": {
   "codemirror_mode": {
    "name": "ipython",
    "version": 3
   },
   "file_extension": ".py",
   "mimetype": "text/x-python",
   "name": "python",
   "nbconvert_exporter": "python",
   "pygments_lexer": "ipython3",
   "version": "3.6.13"
  }
 },
 "nbformat": 4,
 "nbformat_minor": 2
}
